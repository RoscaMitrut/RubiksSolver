{
 "cells": [
  {
   "cell_type": "code",
   "execution_count": 1,
   "metadata": {},
   "outputs": [],
   "source": [
    "import PIL\n",
    "import PIL.ImageDraw\n",
    "import random\n",
    "import numpy as np\n",
    "import os"
   ]
  },
  {
   "cell_type": "code",
   "execution_count": 2,
   "metadata": {},
   "outputs": [],
   "source": [
    "# Gymnasium environment\n",
    "from gymnasium import Env\n",
    "from gymnasium.spaces import Discrete, Box, MultiDiscrete\n",
    "\n",
    "from stable_baselines3 import PPO\n",
    "from stable_baselines3.common.vec_env import DummyVecEnv\n",
    "from stable_baselines3.common.evaluation import evaluate_policy\n"
   ]
  },
  {
   "cell_type": "code",
   "execution_count": 3,
   "metadata": {},
   "outputs": [],
   "source": [
    "class RubkisCube:\n",
    "    def __init__(self, moves_nr=10):\n",
    "        self.cube = {\"U\":[['W', 'W', 'W'], ['W', 'W', 'W'], ['W', 'W', 'W']],\n",
    "            \"L\":[['O', 'O', 'O'], ['O', 'O', 'O'], ['O', 'O', 'O']],\n",
    "            \"F\":[['G', 'G', 'G'], ['G', 'G', 'G'], ['G', 'G', 'G']],\n",
    "            \"R\":[['R', 'R', 'R'], ['R', 'R', 'R'], ['R', 'R', 'R']],\n",
    "            \"B\":[['B', 'B', 'B'], ['B', 'B', 'B'], ['B', 'B', 'B']],\n",
    "            \"D\":[['Y', 'Y', 'Y'], ['Y', 'Y', 'Y'], ['Y', 'Y', 'Y']]\n",
    "        }\n",
    "        self.shuffle(moves_nr)\n",
    "        \n",
    "    def __str__(self):\n",
    "        string = \"\"\n",
    "        for face in self.cube.values():\n",
    "            for row in face:\n",
    "                for square in row:\n",
    "                    string+=square\n",
    "        return string\n",
    "    '''\n",
    "    def get_color(self, color: str):\n",
    "        match color:\n",
    "            case \"R\":\n",
    "                return (255,0,0)\n",
    "            case \"G\":\n",
    "                return (0,255,0)\n",
    "            case \"B\":\n",
    "                return (0,0,255)\n",
    "            case \"W\":\n",
    "                return (255,255,255)\n",
    "            case \"Y\":\n",
    "                return (255,255,0)\n",
    "            case \"O\":\n",
    "                return (255,128,0)\n",
    "    '''\n",
    "    def get_color(self, color: str):\n",
    "        if color == \"R\":\n",
    "            return (255,0,0)\n",
    "        elif color == \"G\":\n",
    "            return (0,255,0)\n",
    "        elif color == \"B\":\n",
    "            return (0,0,255)\n",
    "        elif color == \"W\":\n",
    "            return (255,255,255)\n",
    "        elif color == \"Y\":\n",
    "            return (255,255,0)\n",
    "        elif color == \"O\":\n",
    "            return (255,128,0)\n",
    "             \n",
    "    def draw_cube(self):\n",
    "        square_size = 50\n",
    "        im = PIL.Image.new(mode=\"RGB\", size=(square_size*12,square_size*9))\n",
    "        draw = PIL.ImageDraw.Draw(im)\n",
    "\n",
    "        positions = {\n",
    "            \"U\": (3, 0),\n",
    "            \"L\": (0, 3),\n",
    "            \"F\": (3, 3),\n",
    "            \"R\": (6, 3),\n",
    "            \"B\": (9, 3),\n",
    "            \"D\": (3, 6) \n",
    "        }\n",
    "\n",
    "        for side, pos in positions.items():\n",
    "            base_x, base_y = pos[0] * square_size, pos[1] * square_size\n",
    "            \n",
    "            for row in range(3):\n",
    "                for col in range(3):\n",
    "                    color = self.get_color(self.cube[side][row][col])\n",
    "\n",
    "                    x1 = base_x + (col * square_size)\n",
    "                    y1 = base_y + (row * square_size)\n",
    "                    x2 = x1 + square_size\n",
    "                    y2 = y1 + square_size\n",
    "                    \n",
    "                    draw.rectangle(\n",
    "                        xy=(x1, y1, x2, y2),\n",
    "                        fill=color,\n",
    "                        outline=(0, 0, 0)\n",
    "                    )\n",
    "        #im.show()\n",
    "        return im\n",
    "    \n",
    "    def rotate(self, move: str):\n",
    "        face = move[0]\n",
    "        direction = \"CCW\" if \"'\" in move else \"CW\"\n",
    "        \n",
    "        old_face = [row[:] for row in self.cube[face]]\n",
    "        for i in range(3):\n",
    "            for j in range(3):\n",
    "                if direction == \"CW\":\n",
    "                    self.cube[face][j][2-i] = old_face[i][j]\n",
    "                elif direction == \"CCW\":\n",
    "                    self.cube[face][2-j][i] = old_face[i][j]\n",
    "\n",
    "        if face == \"U\":\n",
    "            if direction == \"CW\":\n",
    "                temp = self.cube[\"L\"][0][:]\n",
    "                self.cube[\"L\"][0] = self.cube[\"F\"][0][:]\n",
    "                self.cube[\"F\"][0] = self.cube[\"R\"][0][:]\n",
    "                self.cube[\"R\"][0] = self.cube[\"B\"][0][:]\n",
    "                self.cube[\"B\"][0] = temp\n",
    "            elif direction == \"CCW\":\n",
    "                temp = self.cube[\"L\"][0][:]\n",
    "                self.cube[\"L\"][0] = self.cube[\"B\"][0][:]\n",
    "                self.cube[\"B\"][0] = self.cube[\"R\"][0][:]\n",
    "                self.cube[\"R\"][0] = self.cube[\"F\"][0][:]\n",
    "                self.cube[\"F\"][0] = temp\n",
    "\n",
    "        elif face == \"D\":\n",
    "            if direction == \"CW\":\n",
    "                temp = self.cube[\"L\"][2][:]\n",
    "                self.cube[\"L\"][2] = self.cube[\"B\"][2][:]\n",
    "                self.cube[\"B\"][2] = self.cube[\"R\"][2][:]\n",
    "                self.cube[\"R\"][2] = self.cube[\"F\"][2][:]\n",
    "                self.cube[\"F\"][2] = temp\n",
    "            elif direction == \"CCW\":\n",
    "                temp = self.cube[\"L\"][2][:]\n",
    "                self.cube[\"L\"][2] = self.cube[\"F\"][2][:]\n",
    "                self.cube[\"F\"][2] = self.cube[\"R\"][2][:]\n",
    "                self.cube[\"R\"][2] = self.cube[\"B\"][2][:]\n",
    "                self.cube[\"B\"][2] = temp\n",
    "\n",
    "        elif face == \"F\":\n",
    "            if direction == \"CW\":\n",
    "                temp = self.cube[\"U\"][2][:]\n",
    "                self.cube[\"U\"][2] = [self.cube[\"L\"][2][2], self.cube[\"L\"][1][2], self.cube[\"L\"][0][2]]\n",
    "                self.cube[\"L\"][0][2], self.cube[\"L\"][1][2], self.cube[\"L\"][2][2] = self.cube[\"D\"][0][:]\n",
    "                self.cube[\"D\"][0] = [self.cube[\"R\"][2][0], self.cube[\"R\"][1][0], self.cube[\"R\"][0][0]]\n",
    "                self.cube[\"R\"][0][0], self.cube[\"R\"][1][0], self.cube[\"R\"][2][0] = temp\n",
    "            elif direction == \"CCW\":\n",
    "                temp = self.cube[\"U\"][2][:]\n",
    "                self.cube[\"U\"][2] = [self.cube[\"R\"][0][0], self.cube[\"R\"][1][0], self.cube[\"R\"][2][0]]\n",
    "                self.cube[\"R\"][0][0], self.cube[\"R\"][1][0], self.cube[\"R\"][2][0] = self.cube[\"D\"][0][::-1]\n",
    "                self.cube[\"D\"][0] = [self.cube[\"L\"][0][2], self.cube[\"L\"][1][2], self.cube[\"L\"][2][2]]\n",
    "                self.cube[\"L\"][0][2], self.cube[\"L\"][1][2], self.cube[\"L\"][2][2] = temp[::-1]\n",
    "\n",
    "        elif face == \"B\":\n",
    "            if direction == \"CW\":\n",
    "                temp = self.cube[\"U\"][0][:]\n",
    "                self.cube[\"U\"][0] = [self.cube[\"R\"][0][2], self.cube[\"R\"][1][2], self.cube[\"R\"][2][2]]\n",
    "                self.cube[\"R\"][0][2], self.cube[\"R\"][1][2], self.cube[\"R\"][2][2] = self.cube[\"D\"][2][::-1]\n",
    "                self.cube[\"D\"][2] = [self.cube[\"L\"][0][0], self.cube[\"L\"][1][0], self.cube[\"L\"][2][0]]\n",
    "                self.cube[\"L\"][0][0], self.cube[\"L\"][1][0], self.cube[\"L\"][2][0] = temp[::-1]\n",
    "            elif direction == \"CCW\":\n",
    "                temp = self.cube[\"U\"][0][:]\n",
    "                self.cube[\"U\"][0] = [self.cube[\"L\"][2][0], self.cube[\"L\"][1][0], self.cube[\"L\"][0][0]]\n",
    "                self.cube[\"L\"][0][0], self.cube[\"L\"][1][0], self.cube[\"L\"][2][0] = self.cube[\"D\"][2][:]\n",
    "                self.cube[\"D\"][2] = [self.cube[\"R\"][2][2], self.cube[\"R\"][1][2], self.cube[\"R\"][0][2]]\n",
    "                self.cube[\"R\"][0][2], self.cube[\"R\"][1][2], self.cube[\"R\"][2][2] = temp\n",
    "\n",
    "        elif face == \"L\":\n",
    "            if direction == \"CW\":\n",
    "                temp = [self.cube[\"U\"][i][0] for i in range(3)]\n",
    "                for i in range(3): self.cube[\"U\"][i][0] = self.cube[\"B\"][2-i][2]\n",
    "                for i in range(3): self.cube[\"B\"][i][2] = self.cube[\"D\"][2-i][0]\n",
    "                for i in range(3): self.cube[\"D\"][i][0] = self.cube[\"F\"][i][0]\n",
    "                for i in range(3): self.cube[\"F\"][i][0] = temp[i]\n",
    "            elif direction == \"CCW\":\n",
    "                temp = [self.cube[\"U\"][i][0] for i in range(3)]\n",
    "                for i in range(3): self.cube[\"U\"][i][0] = self.cube[\"F\"][i][0]\n",
    "                for i in range(3): self.cube[\"F\"][i][0] = self.cube[\"D\"][i][0]\n",
    "                for i in range(3): self.cube[\"D\"][i][0] = self.cube[\"B\"][2-i][2]\n",
    "                for i in range(3): self.cube[\"B\"][i][2] = temp[2-i]\n",
    "\n",
    "        elif face == \"R\":\n",
    "            if direction == \"CW\":\n",
    "                temp = [self.cube[\"U\"][i][2] for i in range(3)]\n",
    "                for i in range(3): self.cube[\"U\"][i][2] = self.cube[\"F\"][i][2]\n",
    "                for i in range(3): self.cube[\"F\"][i][2] = self.cube[\"D\"][i][2]\n",
    "                for i in range(3): self.cube[\"D\"][i][2] = self.cube[\"B\"][2-i][0]\n",
    "                for i in range(3): self.cube[\"B\"][i][0] = temp[2-i]\n",
    "            elif direction == \"CCW\":\n",
    "                temp = [self.cube[\"U\"][i][2] for i in range(3)]\n",
    "                for i in range(3): self.cube[\"U\"][i][2] = self.cube[\"B\"][2-i][0]\n",
    "                for i in range(3): self.cube[\"B\"][i][0] = self.cube[\"D\"][2-i][2]\n",
    "                for i in range(3): self.cube[\"D\"][i][2] = self.cube[\"F\"][i][2]\n",
    "                for i in range(3): self.cube[\"F\"][i][2] = temp[i]\n",
    "\n",
    "    def shuffle(self, moves=50):\n",
    "        for _ in range(moves):\n",
    "            move = random.choice([\"F\",\"R\",\"U\",\"B\",\"L\",\"D\",\"F'\",\"R'\",\"U'\",\"B'\",\"L'\",\"D'\"])\n",
    "            self.rotate(move)\n",
    "        return self\n",
    "    \n",
    "    def check_score(self):\n",
    "        return sum(sum(row.count(face[1][1]) for row in face) for face in self.cube.values())\n",
    "    \n",
    "    def check_done(self):\n",
    "        return self.check_score() == 54\n",
    "    \n",
    "    def step(self, action):\n",
    "        move = [\"F\",\"R\",\"U\",\"B\",\"L\",\"D\",\"F'\",\"R'\",\"U'\",\"B'\",\"L'\",\"D'\"][action]\n",
    "        self.rotate(move)\n",
    "        #reward = 200 if self.check_score()==54 else (self.check_score()-54)/10\n",
    "        #return reward\n",
    "        return self.check_score()"
   ]
  },
  {
   "cell_type": "markdown",
   "metadata": {},
   "source": [
    "# Building the Environment"
   ]
  },
  {
   "cell_type": "code",
   "execution_count": 4,
   "metadata": {},
   "outputs": [],
   "source": [
    "class CubeEnv(Env):\n",
    "    def __init__(self):\n",
    "        self.action_space = Discrete(12)\n",
    "        \n",
    "        self.color_to_idx = {\n",
    "            'W': 0,  # White\n",
    "            'O': 1,  # Orange\n",
    "            'G': 2,  # Green\n",
    "            'R': 3,  # Red\n",
    "            'B': 4,  # Blue\n",
    "            'Y': 5   # Yellow\n",
    "        }\n",
    "        self.observation_space = Box(low=0, high=5, shape=(54,), dtype=np.int8)\n",
    "        \n",
    "        self.state = RubkisCube()\n",
    "        self.moves_left = 50\n",
    "        self.previous_score = self.state.check_score()\n",
    "        \n",
    "    def _state_to_observation(self):\n",
    "        state_str = str(self.state)  # You might need to adjust this based on your RubkisCube class\n",
    "        return np.array([self.color_to_idx[c] for c in state_str], dtype=np.int8)\n",
    "    \n",
    "    def step(self, action):\n",
    "        current_score = self.state.step(action)\n",
    "        self.moves_left -= 1\n",
    "\n",
    "        improvement = current_score - self.previous_score\n",
    "        move_penalty = -0.1  \n",
    "\n",
    "        done = True if current_score==54 else False\n",
    "        \n",
    "        if done:\n",
    "            reward = 200\n",
    "        else:\n",
    "            reward = improvement * 2.0  # Multiply improvement by 2 for stronger signal\n",
    "            reward += move_penalty  # Add move penalty\n",
    "            \n",
    "        if self.moves_left == 0:\n",
    "            done = True\n",
    "\n",
    "        self.previous_score = current_score\n",
    "\n",
    "        info = {\n",
    "            'moves_remaining': self.moves_left,\n",
    "            'current_score': current_score,\n",
    "            'completion_percentage': (current_score / 54.0) * 100\n",
    "            }\n",
    "            \n",
    "        return self._state_to_observation(), reward, done, False, info # false=\"truncated\"\n",
    "    \n",
    "    def render(self):\n",
    "        return self.state.draw_cube()\n",
    "    \n",
    "    def reset(self, seed=None, options=None):\n",
    "        super().reset(seed=seed)\n",
    "        \n",
    "        self.state = RubkisCube()\n",
    "        self.moves_left = 50\n",
    "        self.previous_score = self.state.check_score()\n",
    "\n",
    "        info = {}\n",
    "\n",
    "        return self._state_to_observation(), info"
   ]
  },
  {
   "cell_type": "markdown",
   "metadata": {},
   "source": [
    "# Test Environment"
   ]
  },
  {
   "cell_type": "code",
   "execution_count": 5,
   "metadata": {},
   "outputs": [
    {
     "name": "stdout",
     "output_type": "stream",
     "text": [
      "-6.1\n",
      "-4.199999999999999\n",
      "-6.299999999999999\n",
      "-4.399999999999999\n",
      "1.5000000000000018\n",
      "-2.599999999999998\n",
      "-6.6999999999999975\n",
      "-8.799999999999997\n",
      "-6.899999999999997\n",
      "-6.9999999999999964\n",
      "-7.099999999999996\n",
      "-3.199999999999996\n",
      "-7.299999999999995\n",
      "-3.3999999999999955\n",
      "-7.499999999999995\n",
      "-3.5999999999999948\n",
      "-5.699999999999995\n",
      "-9.799999999999994\n",
      "-5.899999999999993\n",
      "-7.999999999999993\n",
      "-12.099999999999993\n",
      "-14.199999999999992\n",
      "-16.299999999999994\n",
      "-22.39999999999999\n",
      "-14.499999999999991\n",
      "-14.59999999999999\n",
      "-14.69999999999999\n",
      "-10.79999999999999\n",
      "1.1000000000000103\n",
      "-10.99999999999999\n",
      "-11.099999999999989\n",
      "-11.199999999999989\n",
      "-15.299999999999988\n",
      "-11.399999999999988\n",
      "-19.499999999999986\n",
      "-13.599999999999985\n",
      "-19.699999999999985\n",
      "-21.799999999999986\n",
      "-15.899999999999986\n",
      "-13.999999999999986\n",
      "-16.099999999999987\n",
      "-12.199999999999987\n",
      "-14.299999999999986\n",
      "-12.399999999999986\n",
      "-12.499999999999986\n",
      "-12.599999999999985\n",
      "-10.699999999999985\n",
      "-12.799999999999985\n",
      "-12.899999999999984\n",
      "-6.999999999999984\n"
     ]
    }
   ],
   "source": [
    "\n",
    "env_cub_test = CubeEnv()\n",
    "for _ in range(1):\n",
    "    obs = env_cub_test.reset()\n",
    "    done = False\n",
    "    score = 0\n",
    "    \n",
    "    for _ in range(50):\n",
    "        action = env_cub_test.action_space.sample()\n",
    "        obs, reward, done,truncated, info = env_cub_test.step(action)\n",
    "        score += reward\n",
    "        print(score)\n",
    "        #env_cub_test.render().show()\n",
    "        if done:\n",
    "            break\n",
    "        \n",
    "del action, done, env_cub_test, info, obs, reward, score, truncated\n"
   ]
  },
  {
   "cell_type": "markdown",
   "metadata": {},
   "source": [
    "# Train Model"
   ]
  },
  {
   "cell_type": "code",
   "execution_count": 6,
   "metadata": {},
   "outputs": [],
   "source": [
    "log_path = os.path.join('Training', 'Logs')\n",
    "cube_model_path = os.path.join('Training', 'Saved Models', 'Cube_Model')\n",
    "\n",
    "env_cub = CubeEnv()"
   ]
  },
  {
   "cell_type": "code",
   "execution_count": 7,
   "metadata": {},
   "outputs": [
    {
     "name": "stdout",
     "output_type": "stream",
     "text": [
      "Using cpu device\n",
      "Wrapping the env with a `Monitor` wrapper\n",
      "Wrapping the env in a DummyVecEnv.\n"
     ]
    }
   ],
   "source": [
    "model = PPO('MlpPolicy', env_cub, verbose=1, tensorboard_log=log_path, device='cpu')"
   ]
  },
  {
   "cell_type": "code",
   "execution_count": null,
   "metadata": {},
   "outputs": [],
   "source": [
    "model.learn(total_timesteps=5_000_000)"
   ]
  },
  {
   "cell_type": "code",
   "execution_count": null,
   "metadata": {},
   "outputs": [],
   "source": [
    "model.save(cube_model_path)"
   ]
  },
  {
   "cell_type": "markdown",
   "metadata": {},
   "source": [
    "# Running the model"
   ]
  },
  {
   "cell_type": "code",
   "execution_count": 8,
   "metadata": {},
   "outputs": [],
   "source": [
    "cub_env_nou = CubeEnv()"
   ]
  },
  {
   "cell_type": "code",
   "execution_count": 9,
   "metadata": {},
   "outputs": [
    {
     "name": "stdout",
     "output_type": "stream",
     "text": [
      "Wrapping the env with a `Monitor` wrapper\n",
      "Wrapping the env in a DummyVecEnv.\n"
     ]
    },
    {
     "name": "stderr",
     "output_type": "stream",
     "text": [
      "c:\\Users\\RoscaMitrut\\.conda\\envs\\second_env\\lib\\site-packages\\stable_baselines3\\common\\on_policy_algorithm.py:150: UserWarning: You are trying to run PPO on the GPU, but it is primarily intended to run on the CPU when not using a CNN policy (you are using ActorCriticPolicy which should be a MlpPolicy). See https://github.com/DLR-RM/stable-baselines3/issues/1245 for more info. You can pass `device='cpu'` or `export CUDA_VISIBLE_DEVICES=` to force using the CPU.Note: The model will train, but the GPU utilization will be poor and the training might take longer than on CPU.\n",
      "  warnings.warn(\n"
     ]
    }
   ],
   "source": [
    "#load\n",
    "model_2 = PPO.load(cube_model_path, env=cub_env_nou)"
   ]
  },
  {
   "cell_type": "code",
   "execution_count": 10,
   "metadata": {},
   "outputs": [
    {
     "name": "stderr",
     "output_type": "stream",
     "text": [
      "c:\\Users\\RoscaMitrut\\.conda\\envs\\second_env\\lib\\site-packages\\stable_baselines3\\common\\evaluation.py:67: UserWarning: Evaluation environment is not wrapped with a ``Monitor`` wrapper. This may result in reporting modified episode lengths and rewards, if other wrappers happen to modify these. Consider wrapping environment first with ``Monitor`` wrapper.\n",
      "  warnings.warn(\n"
     ]
    },
    {
     "data": {
      "text/plain": [
       "(8.799994224309922, 9.00888033259207)"
      ]
     },
     "execution_count": 10,
     "metadata": {},
     "output_type": "execute_result"
    }
   ],
   "source": [
    "evaluate_policy(model_2, cub_env_nou, n_eval_episodes=10)\n",
    "#mean score / standard deviation"
   ]
  },
  {
   "cell_type": "code",
   "execution_count": 11,
   "metadata": {},
   "outputs": [
    {
     "data": {
      "image/jpeg": "[encoded data removed]",
      "image/png": "[encoded data removed]",
      "text/plain": [
       "<PIL.Image.Image image mode=RGB size=600x450>"
      ]
     },
     "execution_count": 11,
     "metadata": {},
     "output_type": "execute_result"
    }
   ],
   "source": [
    "cub_env_nou.render()"
   ]
  },
  {
   "cell_type": "code",
   "execution_count": 12,
   "metadata": {},
   "outputs": [
    {
     "name": "stdout",
     "output_type": "stream",
     "text": [
      "5\n"
     ]
    }
   ],
   "source": [
    "action, _states = model_2.predict(cub_env_nou._state_to_observation())\n",
    "print(action)"
   ]
  },
  {
   "cell_type": "code",
   "execution_count": 13,
   "metadata": {},
   "outputs": [
    {
     "data": {
      "text/plain": [
       "(array([3, 1, 2, 5, 0, 2, 0, 4, 1, 4, 1, 2, 4, 1, 2, 2, 0, 1, 3, 3, 4, 3,\n",
       "        2, 2, 4, 3, 0, 5, 5, 5, 0, 3, 1, 2, 3, 4, 3, 2, 5, 4, 4, 5, 3, 0,\n",
       "        1, 0, 0, 1, 4, 5, 5, 5, 1, 0], dtype=int8),\n",
       " -0.1,\n",
       " False,\n",
       " False,\n",
       " {'moves_remaining': 49,\n",
       "  'current_score': 14,\n",
       "  'completion_percentage': 25.925925925925924})"
      ]
     },
     "execution_count": 13,
     "metadata": {},
     "output_type": "execute_result"
    }
   ],
   "source": [
    "cub_env_nou.step(action)"
   ]
  }
 ],
 "metadata": {
  "kernelspec": {
   "display_name": "second_env",
   "language": "python",
   "name": "python3"
  },
  "language_info": {
   "codemirror_mode": {
    "name": "ipython",
    "version": 3
   },
   "file_extension": ".py",
   "mimetype": "text/x-python",
   "name": "python",
   "nbconvert_exporter": "python",
   "pygments_lexer": "ipython3",
   "version": "3.9.16"
  }
 },
 "nbformat": 4,
 "nbformat_minor": 2
}
