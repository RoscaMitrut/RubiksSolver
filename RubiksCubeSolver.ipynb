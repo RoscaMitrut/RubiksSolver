{
 "cells": [
  {
   "cell_type": "code",
   "execution_count": 2,
   "metadata": {},
   "outputs": [],
   "source": [
    "import PIL\n",
    "import PIL.ImageDraw\n",
    "import random\n"
   ]
  },
  {
   "cell_type": "code",
   "execution_count": 3,
   "metadata": {},
   "outputs": [],
   "source": [
    "class RubkisCube:\n",
    "    def __init__(self, moves_nr=50):\n",
    "        self.cube = {\"U\":[['W', 'W', 'W'], ['W', 'W', 'W'], ['W', 'W', 'W']],\n",
    "            \"L\":[['O', 'O', 'O'], ['O', 'O', 'O'], ['O', 'O', 'O']],\n",
    "            \"F\":[['G', 'G', 'G'], ['G', 'G', 'G'], ['G', 'G', 'G']],\n",
    "            \"R\":[['R', 'R', 'R'], ['R', 'R', 'R'], ['R', 'R', 'R']],\n",
    "            \"B\":[['B', 'B', 'B'], ['B', 'B', 'B'], ['B', 'B', 'B']],\n",
    "            \"D\":[['Y', 'Y', 'Y'], ['Y', 'Y', 'Y'], ['Y', 'Y', 'Y']]\n",
    "        }\n",
    "        self.shuffle(moves_nr)\n",
    "        \n",
    "    def __str__(self):\n",
    "        string = \"\"\n",
    "        for face in self.cube.values():\n",
    "            for row in face:\n",
    "                for square in row:\n",
    "                    string+=square\n",
    "        return string\n",
    "    '''\n",
    "    def get_color(self, color: str):\n",
    "        match color:\n",
    "            case \"R\":\n",
    "                return (255,0,0)\n",
    "            case \"G\":\n",
    "                return (0,255,0)\n",
    "            case \"B\":\n",
    "                return (0,0,255)\n",
    "            case \"W\":\n",
    "                return (255,255,255)\n",
    "            case \"Y\":\n",
    "                return (255,255,0)\n",
    "            case \"O\":\n",
    "                return (255,128,0)\n",
    "    '''\n",
    "    def get_color(self, color: str):\n",
    "        if color == \"R\":\n",
    "            return (255,0,0)\n",
    "        elif color == \"G\":\n",
    "            return (0,255,0)\n",
    "        elif color == \"B\":\n",
    "            return (0,0,255)\n",
    "        elif color == \"W\":\n",
    "            return (255,255,255)\n",
    "        elif color == \"Y\":\n",
    "            return (255,255,0)\n",
    "        elif color == \"O\":\n",
    "            return (255,128,0)\n",
    "             \n",
    "    def draw_cube(self):\n",
    "        square_size = 50\n",
    "        im = PIL.Image.new(mode=\"RGB\", size=(square_size*12,square_size*9))\n",
    "        draw = PIL.ImageDraw.Draw(im)\n",
    "\n",
    "        positions = {\n",
    "            \"U\": (3, 0),\n",
    "            \"L\": (0, 3),\n",
    "            \"F\": (3, 3),\n",
    "            \"R\": (6, 3),\n",
    "            \"B\": (9, 3),\n",
    "            \"D\": (3, 6) \n",
    "        }\n",
    "\n",
    "        for side, pos in positions.items():\n",
    "            base_x, base_y = pos[0] * square_size, pos[1] * square_size\n",
    "            \n",
    "            for row in range(3):\n",
    "                for col in range(3):\n",
    "                    color = self.get_color(self.cube[side][row][col])\n",
    "\n",
    "                    x1 = base_x + (col * square_size)\n",
    "                    y1 = base_y + (row * square_size)\n",
    "                    x2 = x1 + square_size\n",
    "                    y2 = y1 + square_size\n",
    "                    \n",
    "                    draw.rectangle(\n",
    "                        xy=(x1, y1, x2, y2),\n",
    "                        fill=color,\n",
    "                        outline=(0, 0, 0)\n",
    "                    )\n",
    "        #im.show()\n",
    "        return im\n",
    "    \n",
    "    def rotate(self, move: str):\n",
    "        face = move[0]\n",
    "        direction = \"CCW\" if \"'\" in move else \"CW\"\n",
    "        \n",
    "        old_face = [row[:] for row in self.cube[face]]\n",
    "        for i in range(3):\n",
    "            for j in range(3):\n",
    "                if direction == \"CW\":\n",
    "                    self.cube[face][j][2-i] = old_face[i][j]\n",
    "                elif direction == \"CCW\":\n",
    "                    self.cube[face][2-j][i] = old_face[i][j]\n",
    "\n",
    "        if face == \"U\":\n",
    "            if direction == \"CW\":\n",
    "                temp = self.cube[\"L\"][0][:]\n",
    "                self.cube[\"L\"][0] = self.cube[\"F\"][0][:]\n",
    "                self.cube[\"F\"][0] = self.cube[\"R\"][0][:]\n",
    "                self.cube[\"R\"][0] = self.cube[\"B\"][0][:]\n",
    "                self.cube[\"B\"][0] = temp\n",
    "            elif direction == \"CCW\":\n",
    "                temp = self.cube[\"L\"][0][:]\n",
    "                self.cube[\"L\"][0] = self.cube[\"B\"][0][:]\n",
    "                self.cube[\"B\"][0] = self.cube[\"R\"][0][:]\n",
    "                self.cube[\"R\"][0] = self.cube[\"F\"][0][:]\n",
    "                self.cube[\"F\"][0] = temp\n",
    "\n",
    "        elif face == \"D\":\n",
    "            if direction == \"CW\":\n",
    "                temp = self.cube[\"L\"][2][:]\n",
    "                self.cube[\"L\"][2] = self.cube[\"B\"][2][:]\n",
    "                self.cube[\"B\"][2] = self.cube[\"R\"][2][:]\n",
    "                self.cube[\"R\"][2] = self.cube[\"F\"][2][:]\n",
    "                self.cube[\"F\"][2] = temp\n",
    "            elif direction == \"CCW\":\n",
    "                temp = self.cube[\"L\"][2][:]\n",
    "                self.cube[\"L\"][2] = self.cube[\"F\"][2][:]\n",
    "                self.cube[\"F\"][2] = self.cube[\"R\"][2][:]\n",
    "                self.cube[\"R\"][2] = self.cube[\"B\"][2][:]\n",
    "                self.cube[\"B\"][2] = temp\n",
    "\n",
    "        elif face == \"F\":\n",
    "            if direction == \"CW\":\n",
    "                temp = self.cube[\"U\"][2][:]\n",
    "                self.cube[\"U\"][2] = [self.cube[\"L\"][2][2], self.cube[\"L\"][1][2], self.cube[\"L\"][0][2]]\n",
    "                self.cube[\"L\"][0][2], self.cube[\"L\"][1][2], self.cube[\"L\"][2][2] = self.cube[\"D\"][0][:]\n",
    "                self.cube[\"D\"][0] = [self.cube[\"R\"][2][0], self.cube[\"R\"][1][0], self.cube[\"R\"][0][0]]\n",
    "                self.cube[\"R\"][0][0], self.cube[\"R\"][1][0], self.cube[\"R\"][2][0] = temp\n",
    "            elif direction == \"CCW\":\n",
    "                temp = self.cube[\"U\"][2][:]\n",
    "                self.cube[\"U\"][2] = [self.cube[\"R\"][0][0], self.cube[\"R\"][1][0], self.cube[\"R\"][2][0]]\n",
    "                self.cube[\"R\"][0][0], self.cube[\"R\"][1][0], self.cube[\"R\"][2][0] = self.cube[\"D\"][0][::-1]\n",
    "                self.cube[\"D\"][0] = [self.cube[\"L\"][0][2], self.cube[\"L\"][1][2], self.cube[\"L\"][2][2]]\n",
    "                self.cube[\"L\"][0][2], self.cube[\"L\"][1][2], self.cube[\"L\"][2][2] = temp[::-1]\n",
    "\n",
    "        elif face == \"B\":\n",
    "            if direction == \"CW\":\n",
    "                temp = self.cube[\"U\"][0][:]\n",
    "                self.cube[\"U\"][0] = [self.cube[\"R\"][0][2], self.cube[\"R\"][1][2], self.cube[\"R\"][2][2]]\n",
    "                self.cube[\"R\"][0][2], self.cube[\"R\"][1][2], self.cube[\"R\"][2][2] = self.cube[\"D\"][2][::-1]\n",
    "                self.cube[\"D\"][2] = [self.cube[\"L\"][0][0], self.cube[\"L\"][1][0], self.cube[\"L\"][2][0]]\n",
    "                self.cube[\"L\"][0][0], self.cube[\"L\"][1][0], self.cube[\"L\"][2][0] = temp[::-1]\n",
    "            elif direction == \"CCW\":\n",
    "                temp = self.cube[\"U\"][0][:]\n",
    "                self.cube[\"U\"][0] = [self.cube[\"L\"][2][0], self.cube[\"L\"][1][0], self.cube[\"L\"][0][0]]\n",
    "                self.cube[\"L\"][0][0], self.cube[\"L\"][1][0], self.cube[\"L\"][2][0] = self.cube[\"D\"][2][:]\n",
    "                self.cube[\"D\"][2] = [self.cube[\"R\"][2][2], self.cube[\"R\"][1][2], self.cube[\"R\"][0][2]]\n",
    "                self.cube[\"R\"][0][2], self.cube[\"R\"][1][2], self.cube[\"R\"][2][2] = temp\n",
    "\n",
    "        elif face == \"L\":\n",
    "            if direction == \"CW\":\n",
    "                temp = [self.cube[\"U\"][i][0] for i in range(3)]\n",
    "                for i in range(3): self.cube[\"U\"][i][0] = self.cube[\"B\"][2-i][2]\n",
    "                for i in range(3): self.cube[\"B\"][i][2] = self.cube[\"D\"][2-i][0]\n",
    "                for i in range(3): self.cube[\"D\"][i][0] = self.cube[\"F\"][i][0]\n",
    "                for i in range(3): self.cube[\"F\"][i][0] = temp[i]\n",
    "            elif direction == \"CCW\":\n",
    "                temp = [self.cube[\"U\"][i][0] for i in range(3)]\n",
    "                for i in range(3): self.cube[\"U\"][i][0] = self.cube[\"F\"][i][0]\n",
    "                for i in range(3): self.cube[\"F\"][i][0] = self.cube[\"D\"][i][0]\n",
    "                for i in range(3): self.cube[\"D\"][i][0] = self.cube[\"B\"][2-i][2]\n",
    "                for i in range(3): self.cube[\"B\"][i][2] = temp[2-i]\n",
    "\n",
    "        elif face == \"R\":\n",
    "            if direction == \"CW\":\n",
    "                temp = [self.cube[\"U\"][i][2] for i in range(3)]\n",
    "                for i in range(3): self.cube[\"U\"][i][2] = self.cube[\"F\"][i][2]\n",
    "                for i in range(3): self.cube[\"F\"][i][2] = self.cube[\"D\"][i][2]\n",
    "                for i in range(3): self.cube[\"D\"][i][2] = self.cube[\"B\"][2-i][0]\n",
    "                for i in range(3): self.cube[\"B\"][i][0] = temp[2-i]\n",
    "            elif direction == \"CCW\":\n",
    "                temp = [self.cube[\"U\"][i][2] for i in range(3)]\n",
    "                for i in range(3): self.cube[\"U\"][i][2] = self.cube[\"B\"][2-i][0]\n",
    "                for i in range(3): self.cube[\"B\"][i][0] = self.cube[\"D\"][2-i][2]\n",
    "                for i in range(3): self.cube[\"D\"][i][2] = self.cube[\"F\"][i][2]\n",
    "                for i in range(3): self.cube[\"F\"][i][2] = temp[i]\n",
    "\n",
    "    def shuffle(self, moves=50):\n",
    "        for _ in range(moves):\n",
    "            move = random.choice([\"F\",\"R\",\"U\",\"B\",\"L\",\"D\",\"F'\",\"R'\",\"U'\",\"B'\",\"L'\",\"D'\"])\n",
    "            self.rotate(move)\n",
    "        return self\n",
    "    \n",
    "    def check_score(self):\n",
    "        return sum(sum(row.count(face[1][1]) for row in face) for face in self.cube.values())\n",
    "    \n",
    "    def check_done(self):\n",
    "        return self.check_score() == 54\n",
    "    \n",
    "    def step(self, action):\n",
    "        move = [\"F\",\"R\",\"U\",\"B\",\"L\",\"D\",\"F'\",\"R'\",\"U'\",\"B'\",\"L'\",\"D'\"][action]\n",
    "        self.rotate(move)\n",
    "        reward = 200 if self.check_score()==54 else (self.check_score()-54)/10\n",
    "        return reward\n",
    "    "
   ]
  },
  {
   "cell_type": "code",
   "execution_count": 4,
   "metadata": {},
   "outputs": [
    {
     "data": {
      "image/jpeg": "[encoded data removed]",
      "image/png": "[encoded data removed]",
      "text/plain": [
       "<PIL.Image.Image image mode=RGB size=600x450>"
      ]
     },
     "execution_count": 4,
     "metadata": {},
     "output_type": "execute_result"
    }
   ],
   "source": [
    "cub = RubkisCube()\n",
    "#temp.shuffle()\n",
    "cub.draw_cube()"
   ]
  },
  {
   "cell_type": "markdown",
   "metadata": {},
   "source": [
    "# Test random environment"
   ]
  },
  {
   "cell_type": "code",
   "execution_count": 5,
   "metadata": {},
   "outputs": [
    {
     "name": "stdout",
     "output_type": "stream",
     "text": [
      "-4.2\n",
      "-8.0\n",
      "-12.1\n",
      "-16.2\n",
      "-20.4\n",
      "-24.599999999999998\n",
      "-28.799999999999997\n",
      "-32.8\n",
      "-37.0\n",
      "-41.2\n",
      "-45.5\n",
      "-49.5\n",
      "-53.8\n",
      "-58.0\n",
      "-62.2\n",
      "-66.4\n",
      "-70.60000000000001\n",
      "-74.7\n",
      "-78.8\n",
      "-83.1\n",
      "-87.39999999999999\n",
      "-91.89999999999999\n",
      "-96.1\n",
      "-100.0\n",
      "-103.9\n",
      "-108.10000000000001\n",
      "-112.30000000000001\n",
      "-116.4\n",
      "-120.60000000000001\n",
      "-124.60000000000001\n",
      "-129.0\n",
      "-133.1\n",
      "-137.29999999999998\n",
      "-141.39999999999998\n",
      "-145.29999999999998\n",
      "-149.39999999999998\n",
      "-153.49999999999997\n",
      "-157.89999999999998\n",
      "-162.09999999999997\n",
      "-166.39999999999998\n",
      "-170.59999999999997\n",
      "-174.89999999999998\n",
      "-178.79999999999998\n",
      "-183.1\n",
      "-187.2\n",
      "-191.39999999999998\n",
      "-195.29999999999998\n",
      "-199.49999999999997\n",
      "-203.69999999999996\n",
      "-207.79999999999995\n"
     ]
    }
   ],
   "source": [
    "episodes = 1\n",
    "for episode in range(episodes):\n",
    "    temp = RubkisCube()\n",
    "    done = temp.check_done()\n",
    "    score = 0\n",
    "    \n",
    "    for _ in range(50):\n",
    "        action = random.randint(0,11)\n",
    "        score += temp.step(action)\n",
    "        print(score)\n",
    "        if temp.check_done():\n",
    "            break    "
   ]
  },
  {
   "cell_type": "markdown",
   "metadata": {},
   "source": [
    "# DL Model"
   ]
  },
  {
   "cell_type": "code",
   "execution_count": 6,
   "metadata": {},
   "outputs": [],
   "source": [
    "import numpy as np\n",
    "from tensorflow.keras.models import Sequential\n",
    "from tensorflow.keras.layers import Dense, Flatten\n",
    "from tensorflow.keras.optimizers import Adam "
   ]
  },
  {
   "cell_type": "code",
   "execution_count": 7,
   "metadata": {},
   "outputs": [],
   "source": [
    "def build_model(states, actions):\n",
    "    model = Sequential()\n",
    "    model.add(Flatten(input_shape=(1, states)))\n",
    "    model.add(Dense(64, activation='relu'))\n",
    "    model.add(Dense(64, activation='relu'))\n",
    "    model.add(Dense(actions, activation='linear'))\n",
    "    return model"
   ]
  },
  {
   "cell_type": "code",
   "execution_count": 8,
   "metadata": {},
   "outputs": [
    {
     "name": "stdout",
     "output_type": "stream",
     "text": [
      "Model: \"sequential\"\n",
      "_________________________________________________________________\n",
      " Layer (type)                Output Shape              Param #   \n",
      "=================================================================\n",
      " flatten (Flatten)           (None, 54)                0         \n",
      "                                                                 \n",
      " dense (Dense)               (None, 64)                3520      \n",
      "                                                                 \n",
      " dense_1 (Dense)             (None, 64)                4160      \n",
      "                                                                 \n",
      " dense_2 (Dense)             (None, 12)                780       \n",
      "                                                                 \n",
      "=================================================================\n",
      "Total params: 8,460\n",
      "Trainable params: 8,460\n",
      "Non-trainable params: 0\n",
      "_________________________________________________________________\n"
     ]
    }
   ],
   "source": [
    "model = build_model(54, 12)\n",
    "model.summary()"
   ]
  },
  {
   "cell_type": "markdown",
   "metadata": {},
   "source": [
    "# Custom Environment"
   ]
  },
  {
   "cell_type": "code",
   "execution_count": 9,
   "metadata": {},
   "outputs": [],
   "source": [
    "import gym\n",
    "from gym import Env\n",
    "from gym.spaces import Discrete, Box, Dict, MultiBinary, MultiDiscrete, Tuple\n",
    "import numpy as np\n",
    "import random\n",
    "import os\n",
    "from stable_baselines3 import PPO\n",
    "from stable_baselines3.common.vec_env import DummyVecEnv\n",
    "from stable_baselines3.common.evaluation import evaluate_policy\n"
   ]
  },
  {
   "cell_type": "markdown",
   "metadata": {},
   "source": [
    "# Spaces"
   ]
  },
  {
   "cell_type": "code",
   "execution_count": 10,
   "metadata": {},
   "outputs": [
    {
     "data": {
      "text/plain": [
       "5"
      ]
     },
     "execution_count": 10,
     "metadata": {},
     "output_type": "execute_result"
    }
   ],
   "source": [
    "Discrete(12).sample()"
   ]
  },
  {
   "cell_type": "code",
   "execution_count": 11,
   "metadata": {},
   "outputs": [
    {
     "data": {
      "text/plain": [
       "array([[0.47862473, 0.9383407 , 0.3109202 ],\n",
       "       [0.88125664, 0.41991237, 0.21433873],\n",
       "       [0.66568404, 0.41875762, 0.27481812]], dtype=float32)"
      ]
     },
     "execution_count": 11,
     "metadata": {},
     "output_type": "execute_result"
    }
   ],
   "source": [
    "Box(0, 1, shape=(3,3)).sample()"
   ]
  },
  {
   "cell_type": "code",
   "execution_count": 12,
   "metadata": {},
   "outputs": [
    {
     "data": {
      "text/plain": [
       "(0, array([21.179289,  8.545828, 32.50802 ], dtype=float32))"
      ]
     },
     "execution_count": 12,
     "metadata": {},
     "output_type": "execute_result"
    }
   ],
   "source": [
    "Tuple((Discrete(2), Box(0, 100, shape=(3,)))).sample()"
   ]
  },
  {
   "cell_type": "code",
   "execution_count": 13,
   "metadata": {},
   "outputs": [
    {
     "data": {
      "text/plain": [
       "OrderedDict([('height', 1), ('speed', array([35.675358], dtype=float32))])"
      ]
     },
     "execution_count": 13,
     "metadata": {},
     "output_type": "execute_result"
    }
   ],
   "source": [
    "Dict({'height': Discrete(2), 'speed': Box(0, 100, shape=(1,))}).sample()"
   ]
  },
  {
   "cell_type": "code",
   "execution_count": 14,
   "metadata": {},
   "outputs": [
    {
     "data": {
      "text/plain": [
       "array([1, 1, 0, 0], dtype=int8)"
      ]
     },
     "execution_count": 14,
     "metadata": {},
     "output_type": "execute_result"
    }
   ],
   "source": [
    "MultiBinary(4).sample()"
   ]
  },
  {
   "cell_type": "code",
   "execution_count": 15,
   "metadata": {},
   "outputs": [
    {
     "data": {
      "text/plain": [
       "array([3, 1, 1], dtype=int64)"
      ]
     },
     "execution_count": 15,
     "metadata": {},
     "output_type": "execute_result"
    }
   ],
   "source": [
    "MultiDiscrete([5, 2, 2]).sample()"
   ]
  },
  {
   "cell_type": "markdown",
   "metadata": {},
   "source": [
    "# Building the Environment"
   ]
  },
  {
   "cell_type": "code",
   "execution_count": 16,
   "metadata": {},
   "outputs": [],
   "source": [
    "class CubeEnv(Env):\n",
    "    def __init__(self):\n",
    "        self.action_space = Discrete(12)\n",
    "        \n",
    "        self.color_to_idx = {\n",
    "            'W': 0,  # White\n",
    "            'O': 1,  # Orange\n",
    "            'G': 2,  # Green\n",
    "            'R': 3,  # Red\n",
    "            'B': 4,  # Blue\n",
    "            'Y': 5   # Yellow\n",
    "        }\n",
    "        self.observation_space = Box(low=0, high=5, shape=(54,), dtype=np.int8)\n",
    "        \n",
    "        self.state = RubkisCube()\n",
    "        self.done = False\n",
    "        self.score = 0\n",
    "        \n",
    "    def _state_to_observation(self):\n",
    "        state_str = str(self.state)  # You might need to adjust this based on your RubkisCube class\n",
    "        return np.array([self.color_to_idx[c] for c in state_str], dtype=np.int8)\n",
    "    \n",
    "    def step(self, action):\n",
    "        self.score += self.state.step(action)\n",
    "        self.done = self.state.check_done()\n",
    "        \n",
    "        if self.done:\n",
    "            reward = 200\n",
    "        else:\n",
    "            reward = (self.score-54)/100\n",
    "            \n",
    "        info = {}\n",
    "            \n",
    "        return self._state_to_observation(), reward, self.done, info\n",
    "    \n",
    "    def render(self):\n",
    "        return self.state.draw_cube()\n",
    "    \n",
    "    def reset(self):\n",
    "        self.state = RubkisCube()\n",
    "        self.done = False\n",
    "        self.score = 0\n",
    "        return self._state_to_observation()"
   ]
  },
  {
   "cell_type": "markdown",
   "metadata": {},
   "source": [
    "# Test Environment"
   ]
  },
  {
   "cell_type": "code",
   "execution_count": 17,
   "metadata": {},
   "outputs": [],
   "source": [
    "env_cub = CubeEnv()"
   ]
  },
  {
   "cell_type": "code",
   "execution_count": 18,
   "metadata": {},
   "outputs": [
    {
     "name": "stdout",
     "output_type": "stream",
     "text": [
      "-0.583\n",
      "-1.208\n",
      "-1.873\n",
      "-2.578\n",
      "-3.319\n",
      "-4.1\n",
      "-4.923\n",
      "-5.787\n",
      "-6.694\n",
      "-7.6419999999999995\n",
      "-8.633\n",
      "-9.665\n",
      "-10.738999999999999\n",
      "-11.851999999999999\n",
      "-13.006999999999998\n",
      "-14.206999999999997\n",
      "-15.447999999999997\n",
      "-16.733999999999998\n",
      "-18.064\n",
      "-19.436\n",
      "-20.85\n",
      "-22.305\n",
      "-23.801\n",
      "-25.336\n",
      "-26.912\n",
      "-28.529\n",
      "-30.186\n",
      "-31.881\n",
      "-33.61\n",
      "-35.377\n",
      "-37.183\n",
      "-39.028999999999996\n",
      "-40.916999999999994\n",
      "-42.846999999999994\n",
      "-44.81699999999999\n",
      "-46.827999999999996\n",
      "-48.876\n",
      "-50.961\n",
      "-53.086999999999996\n",
      "-55.25299999999999\n",
      "-57.45899999999999\n",
      "-59.70499999999999\n",
      "-61.99199999999999\n",
      "-64.32199999999999\n",
      "-66.69299999999998\n",
      "-69.10499999999999\n",
      "-71.55699999999999\n",
      "-74.04899999999999\n",
      "-76.582\n",
      "-79.15499999999999\n"
     ]
    }
   ],
   "source": [
    "episodes = 1\n",
    "for episode in range(episodes):\n",
    "    obs = env_cub.reset()\n",
    "    done = False\n",
    "    score = 0\n",
    "    \n",
    "    for _ in range(50):\n",
    "        action = env_cub.action_space.sample()\n",
    "        obs, reward, done, info = env_cub.step(action)\n",
    "        score += reward\n",
    "        print(score)\n",
    "        #env_cub.render().show()\n",
    "        if done:\n",
    "            break"
   ]
  },
  {
   "cell_type": "markdown",
   "metadata": {},
   "source": [
    "# Train Model"
   ]
  },
  {
   "cell_type": "code",
   "execution_count": 21,
   "metadata": {},
   "outputs": [
    {
     "name": "stdout",
     "output_type": "stream",
     "text": [
      "Using cuda device\n",
      "Wrapping the env with a `Monitor` wrapper\n",
      "Wrapping the env in a DummyVecEnv.\n"
     ]
    },
    {
     "name": "stderr",
     "output_type": "stream",
     "text": [
      "c:\\Users\\RoscaMitrut\\.conda\\envs\\second_env\\lib\\site-packages\\stable_baselines3\\common\\vec_env\\patch_gym.py:49: UserWarning: You provided an OpenAI Gym environment. We strongly recommend transitioning to Gymnasium environments. Stable-Baselines3 is automatically wrapping your environments in a compatibility layer, which could potentially cause issues.\n",
      "  warnings.warn(\n"
     ]
    }
   ],
   "source": [
    "log_path = os.path.join('Training', 'Logs')\n",
    "model = PPO('MlpPolicy', env_cub, verbose=1, tensorboard_log=log_path)"
   ]
  },
  {
   "cell_type": "code",
   "execution_count": 22,
   "metadata": {},
   "outputs": [
    {
     "name": "stdout",
     "output_type": "stream",
     "text": [
      "Logging to Training\\Logs\\PPO_2\n",
      "-----------------------------\n",
      "| time/              |      |\n",
      "|    fps             | 432  |\n",
      "|    iterations      | 1    |\n",
      "|    time_elapsed    | 4    |\n",
      "|    total_timesteps | 2048 |\n",
      "-----------------------------\n",
      "------------------------------------------\n",
      "| time/                   |              |\n",
      "|    fps                  | 365          |\n",
      "|    iterations           | 2            |\n",
      "|    time_elapsed         | 11           |\n",
      "|    total_timesteps      | 4096         |\n",
      "| train/                  |              |\n",
      "|    approx_kl            | 0.0022646002 |\n",
      "|    clip_fraction        | 0            |\n",
      "|    clip_range           | 0.2          |\n",
      "|    entropy_loss         | -2.48        |\n",
      "|    explained_variance   | 3.19e-05     |\n",
      "|    learning_rate        | 0.0003       |\n",
      "|    loss                 | 3.19e+05     |\n",
      "|    n_updates            | 10           |\n",
      "|    policy_gradient_loss | -0.0046      |\n",
      "|    value_loss           | 6.32e+05     |\n",
      "------------------------------------------\n",
      "-------------------------------------------\n",
      "| time/                   |               |\n",
      "|    fps                  | 348           |\n",
      "|    iterations           | 3             |\n",
      "|    time_elapsed         | 17            |\n",
      "|    total_timesteps      | 6144          |\n",
      "| train/                  |               |\n",
      "|    approx_kl            | 0.00033945165 |\n",
      "|    clip_fraction        | 0             |\n",
      "|    clip_range           | 0.2           |\n",
      "|    entropy_loss         | -2.48         |\n",
      "|    explained_variance   | -9.54e-07     |\n",
      "|    learning_rate        | 0.0003        |\n",
      "|    loss                 | 2.27e+06      |\n",
      "|    n_updates            | 20            |\n",
      "|    policy_gradient_loss | -0.00176      |\n",
      "|    value_loss           | 4.41e+06      |\n",
      "-------------------------------------------\n",
      "-------------------------------------------\n",
      "| time/                   |               |\n",
      "|    fps                  | 340           |\n",
      "|    iterations           | 4             |\n",
      "|    time_elapsed         | 24            |\n",
      "|    total_timesteps      | 8192          |\n",
      "| train/                  |               |\n",
      "|    approx_kl            | 0.00013368929 |\n",
      "|    clip_fraction        | 0             |\n",
      "|    clip_range           | 0.2           |\n",
      "|    entropy_loss         | -2.48         |\n",
      "|    explained_variance   | 5.36e-07      |\n",
      "|    learning_rate        | 0.0003        |\n",
      "|    loss                 | 5.96e+06      |\n",
      "|    n_updates            | 30            |\n",
      "|    policy_gradient_loss | -0.00109      |\n",
      "|    value_loss           | 1.19e+07      |\n",
      "-------------------------------------------\n",
      "-------------------------------------------\n",
      "| time/                   |               |\n",
      "|    fps                  | 337           |\n",
      "|    iterations           | 5             |\n",
      "|    time_elapsed         | 30            |\n",
      "|    total_timesteps      | 10240         |\n",
      "| train/                  |               |\n",
      "|    approx_kl            | 3.4805562e-05 |\n",
      "|    clip_fraction        | 0             |\n",
      "|    clip_range           | 0.2           |\n",
      "|    entropy_loss         | -2.48         |\n",
      "|    explained_variance   | 7.15e-07      |\n",
      "|    learning_rate        | 0.0003        |\n",
      "|    loss                 | 1.18e+07      |\n",
      "|    n_updates            | 40            |\n",
      "|    policy_gradient_loss | -0.000521     |\n",
      "|    value_loss           | 2.31e+07      |\n",
      "-------------------------------------------\n",
      "------------------------------------------\n",
      "| time/                   |              |\n",
      "|    fps                  | 335          |\n",
      "|    iterations           | 6            |\n",
      "|    time_elapsed         | 36           |\n",
      "|    total_timesteps      | 12288        |\n",
      "| train/                  |              |\n",
      "|    approx_kl            | 3.946782e-05 |\n",
      "|    clip_fraction        | 0            |\n",
      "|    clip_range           | 0.2          |\n",
      "|    entropy_loss         | -2.48        |\n",
      "|    explained_variance   | -1.19e-07    |\n",
      "|    learning_rate        | 0.0003       |\n",
      "|    loss                 | 1.88e+07     |\n",
      "|    n_updates            | 50           |\n",
      "|    policy_gradient_loss | -0.000524    |\n",
      "|    value_loss           | 3.81e+07     |\n",
      "------------------------------------------\n",
      "-------------------------------------------\n",
      "| time/                   |               |\n",
      "|    fps                  | 329           |\n",
      "|    iterations           | 7             |\n",
      "|    time_elapsed         | 43            |\n",
      "|    total_timesteps      | 14336         |\n",
      "| train/                  |               |\n",
      "|    approx_kl            | 3.1068106e-05 |\n",
      "|    clip_fraction        | 0             |\n",
      "|    clip_range           | 0.2           |\n",
      "|    entropy_loss         | -2.48         |\n",
      "|    explained_variance   | 1.19e-07      |\n",
      "|    learning_rate        | 0.0003        |\n",
      "|    loss                 | 2.89e+07      |\n",
      "|    n_updates            | 60            |\n",
      "|    policy_gradient_loss | -0.000445     |\n",
      "|    value_loss           | 5.68e+07      |\n",
      "-------------------------------------------\n",
      "-------------------------------------------\n",
      "| time/                   |               |\n",
      "|    fps                  | 323           |\n",
      "|    iterations           | 8             |\n",
      "|    time_elapsed         | 50            |\n",
      "|    total_timesteps      | 16384         |\n",
      "| train/                  |               |\n",
      "|    approx_kl            | 3.4745986e-05 |\n",
      "|    clip_fraction        | 0             |\n",
      "|    clip_range           | 0.2           |\n",
      "|    entropy_loss         | -2.48         |\n",
      "|    explained_variance   | 5.96e-08      |\n",
      "|    learning_rate        | 0.0003        |\n",
      "|    loss                 | 4.05e+07      |\n",
      "|    n_updates            | 70            |\n",
      "|    policy_gradient_loss | -0.000557     |\n",
      "|    value_loss           | 7.92e+07      |\n",
      "-------------------------------------------\n",
      "-------------------------------------------\n",
      "| time/                   |               |\n",
      "|    fps                  | 321           |\n",
      "|    iterations           | 9             |\n",
      "|    time_elapsed         | 57            |\n",
      "|    total_timesteps      | 18432         |\n",
      "| train/                  |               |\n",
      "|    approx_kl            | 1.0417105e-05 |\n",
      "|    clip_fraction        | 0             |\n",
      "|    clip_range           | 0.2           |\n",
      "|    entropy_loss         | -2.48         |\n",
      "|    explained_variance   | 0             |\n",
      "|    learning_rate        | 0.0003        |\n",
      "|    loss                 | 5.23e+07      |\n",
      "|    n_updates            | 80            |\n",
      "|    policy_gradient_loss | -0.000278     |\n",
      "|    value_loss           | 1.05e+08      |\n",
      "-------------------------------------------\n",
      "-------------------------------------------\n",
      "| time/                   |               |\n",
      "|    fps                  | 321           |\n",
      "|    iterations           | 10            |\n",
      "|    time_elapsed         | 63            |\n",
      "|    total_timesteps      | 20480         |\n",
      "| train/                  |               |\n",
      "|    approx_kl            | 1.2582343e-05 |\n",
      "|    clip_fraction        | 0             |\n",
      "|    clip_range           | 0.2           |\n",
      "|    entropy_loss         | -2.48         |\n",
      "|    explained_variance   | 0             |\n",
      "|    learning_rate        | 0.0003        |\n",
      "|    loss                 | 6.93e+07      |\n",
      "|    n_updates            | 90            |\n",
      "|    policy_gradient_loss | -0.000296     |\n",
      "|    value_loss           | 1.35e+08      |\n",
      "-------------------------------------------\n"
     ]
    },
    {
     "data": {
      "text/plain": [
       "<stable_baselines3.ppo.ppo.PPO at 0x27623fe0760>"
      ]
     },
     "execution_count": 22,
     "metadata": {},
     "output_type": "execute_result"
    }
   ],
   "source": [
    "model.learn(total_timesteps=20000)"
   ]
  },
  {
   "cell_type": "code",
   "execution_count": 30,
   "metadata": {},
   "outputs": [],
   "source": [
    "cube_model_path = os.path.join('Training', 'Saved Models', 'Cube_Model')\n",
    "model.save(cube_model_path)"
   ]
  },
  {
   "cell_type": "code",
   "execution_count": null,
   "metadata": {},
   "outputs": [],
   "source": [
    "#load\n",
    "model = PPO.load(cube_model_path, env=env_cub)"
   ]
  },
  {
   "cell_type": "code",
   "execution_count": 23,
   "metadata": {},
   "outputs": [
    {
     "name": "stderr",
     "output_type": "stream",
     "text": [
      "c:\\Users\\RoscaMitrut\\.conda\\envs\\second_env\\lib\\site-packages\\stable_baselines3\\common\\evaluation.py:67: UserWarning: Evaluation environment is not wrapped with a ``Monitor`` wrapper. This may result in reporting modified episode lengths and rewards, if other wrappers happen to modify these. Consider wrapping environment first with ``Monitor`` wrapper.\n",
      "  warnings.warn(\n"
     ]
    },
    {
     "ename": "KeyboardInterrupt",
     "evalue": "",
     "output_type": "error",
     "traceback": [
      "\u001b[1;31m---------------------------------------------------------------------------\u001b[0m",
      "\u001b[1;31mKeyboardInterrupt\u001b[0m                         Traceback (most recent call last)",
      "Cell \u001b[1;32mIn[23], line 1\u001b[0m\n\u001b[1;32m----> 1\u001b[0m \u001b[43mevaluate_policy\u001b[49m\u001b[43m(\u001b[49m\u001b[43mmodel\u001b[49m\u001b[43m,\u001b[49m\u001b[43m \u001b[49m\u001b[43menv_cub\u001b[49m\u001b[43m,\u001b[49m\u001b[43m \u001b[49m\u001b[43mn_eval_episodes\u001b[49m\u001b[38;5;241;43m=\u001b[39;49m\u001b[38;5;241;43m10\u001b[39;49m\u001b[43m)\u001b[49m\n\u001b[0;32m      2\u001b[0m \u001b[38;5;66;03m#score mean / standard deviation\u001b[39;00m\n",
      "File \u001b[1;32mc:\\Users\\RoscaMitrut\\.conda\\envs\\second_env\\lib\\site-packages\\stable_baselines3\\common\\evaluation.py:88\u001b[0m, in \u001b[0;36mevaluate_policy\u001b[1;34m(model, env, n_eval_episodes, deterministic, render, callback, reward_threshold, return_episode_rewards, warn)\u001b[0m\n\u001b[0;32m     86\u001b[0m episode_starts \u001b[38;5;241m=\u001b[39m np\u001b[38;5;241m.\u001b[39mones((env\u001b[38;5;241m.\u001b[39mnum_envs,), dtype\u001b[38;5;241m=\u001b[39m\u001b[38;5;28mbool\u001b[39m)\n\u001b[0;32m     87\u001b[0m \u001b[38;5;28;01mwhile\u001b[39;00m (episode_counts \u001b[38;5;241m<\u001b[39m episode_count_targets)\u001b[38;5;241m.\u001b[39many():\n\u001b[1;32m---> 88\u001b[0m     actions, states \u001b[38;5;241m=\u001b[39m \u001b[43mmodel\u001b[49m\u001b[38;5;241;43m.\u001b[39;49m\u001b[43mpredict\u001b[49m\u001b[43m(\u001b[49m\n\u001b[0;32m     89\u001b[0m \u001b[43m        \u001b[49m\u001b[43mobservations\u001b[49m\u001b[43m,\u001b[49m\u001b[43m  \u001b[49m\u001b[38;5;66;43;03m# type: ignore[arg-type]\u001b[39;49;00m\n\u001b[0;32m     90\u001b[0m \u001b[43m        \u001b[49m\u001b[43mstate\u001b[49m\u001b[38;5;241;43m=\u001b[39;49m\u001b[43mstates\u001b[49m\u001b[43m,\u001b[49m\n\u001b[0;32m     91\u001b[0m \u001b[43m        \u001b[49m\u001b[43mepisode_start\u001b[49m\u001b[38;5;241;43m=\u001b[39;49m\u001b[43mepisode_starts\u001b[49m\u001b[43m,\u001b[49m\n\u001b[0;32m     92\u001b[0m \u001b[43m        \u001b[49m\u001b[43mdeterministic\u001b[49m\u001b[38;5;241;43m=\u001b[39;49m\u001b[43mdeterministic\u001b[49m\u001b[43m,\u001b[49m\n\u001b[0;32m     93\u001b[0m \u001b[43m    \u001b[49m\u001b[43m)\u001b[49m\n\u001b[0;32m     94\u001b[0m     new_observations, rewards, dones, infos \u001b[38;5;241m=\u001b[39m env\u001b[38;5;241m.\u001b[39mstep(actions)\n\u001b[0;32m     95\u001b[0m     current_rewards \u001b[38;5;241m+\u001b[39m\u001b[38;5;241m=\u001b[39m rewards\n",
      "File \u001b[1;32mc:\\Users\\RoscaMitrut\\.conda\\envs\\second_env\\lib\\site-packages\\stable_baselines3\\common\\base_class.py:557\u001b[0m, in \u001b[0;36mBaseAlgorithm.predict\u001b[1;34m(self, observation, state, episode_start, deterministic)\u001b[0m\n\u001b[0;32m    537\u001b[0m \u001b[38;5;28;01mdef\u001b[39;00m\u001b[38;5;250m \u001b[39m\u001b[38;5;21mpredict\u001b[39m(\n\u001b[0;32m    538\u001b[0m     \u001b[38;5;28mself\u001b[39m,\n\u001b[0;32m    539\u001b[0m     observation: Union[np\u001b[38;5;241m.\u001b[39mndarray, \u001b[38;5;28mdict\u001b[39m[\u001b[38;5;28mstr\u001b[39m, np\u001b[38;5;241m.\u001b[39mndarray]],\n\u001b[1;32m   (...)\u001b[0m\n\u001b[0;32m    542\u001b[0m     deterministic: \u001b[38;5;28mbool\u001b[39m \u001b[38;5;241m=\u001b[39m \u001b[38;5;28;01mFalse\u001b[39;00m,\n\u001b[0;32m    543\u001b[0m ) \u001b[38;5;241m-\u001b[39m\u001b[38;5;241m>\u001b[39m \u001b[38;5;28mtuple\u001b[39m[np\u001b[38;5;241m.\u001b[39mndarray, Optional[\u001b[38;5;28mtuple\u001b[39m[np\u001b[38;5;241m.\u001b[39mndarray, \u001b[38;5;241m.\u001b[39m\u001b[38;5;241m.\u001b[39m\u001b[38;5;241m.\u001b[39m]]]:\n\u001b[0;32m    544\u001b[0m \u001b[38;5;250m    \u001b[39m\u001b[38;5;124;03m\"\"\"\u001b[39;00m\n\u001b[0;32m    545\u001b[0m \u001b[38;5;124;03m    Get the policy action from an observation (and optional hidden state).\u001b[39;00m\n\u001b[0;32m    546\u001b[0m \u001b[38;5;124;03m    Includes sugar-coating to handle different observations (e.g. normalizing images).\u001b[39;00m\n\u001b[1;32m   (...)\u001b[0m\n\u001b[0;32m    555\u001b[0m \u001b[38;5;124;03m        (used in recurrent policies)\u001b[39;00m\n\u001b[0;32m    556\u001b[0m \u001b[38;5;124;03m    \"\"\"\u001b[39;00m\n\u001b[1;32m--> 557\u001b[0m     \u001b[38;5;28;01mreturn\u001b[39;00m \u001b[38;5;28;43mself\u001b[39;49m\u001b[38;5;241;43m.\u001b[39;49m\u001b[43mpolicy\u001b[49m\u001b[38;5;241;43m.\u001b[39;49m\u001b[43mpredict\u001b[49m\u001b[43m(\u001b[49m\u001b[43mobservation\u001b[49m\u001b[43m,\u001b[49m\u001b[43m \u001b[49m\u001b[43mstate\u001b[49m\u001b[43m,\u001b[49m\u001b[43m \u001b[49m\u001b[43mepisode_start\u001b[49m\u001b[43m,\u001b[49m\u001b[43m \u001b[49m\u001b[43mdeterministic\u001b[49m\u001b[43m)\u001b[49m\n",
      "File \u001b[1;32mc:\\Users\\RoscaMitrut\\.conda\\envs\\second_env\\lib\\site-packages\\stable_baselines3\\common\\policies.py:365\u001b[0m, in \u001b[0;36mBasePolicy.predict\u001b[1;34m(self, observation, state, episode_start, deterministic)\u001b[0m\n\u001b[0;32m    356\u001b[0m \u001b[38;5;28;01mif\u001b[39;00m \u001b[38;5;28misinstance\u001b[39m(observation, \u001b[38;5;28mtuple\u001b[39m) \u001b[38;5;129;01mand\u001b[39;00m \u001b[38;5;28mlen\u001b[39m(observation) \u001b[38;5;241m==\u001b[39m \u001b[38;5;241m2\u001b[39m \u001b[38;5;129;01mand\u001b[39;00m \u001b[38;5;28misinstance\u001b[39m(observation[\u001b[38;5;241m1\u001b[39m], \u001b[38;5;28mdict\u001b[39m):\n\u001b[0;32m    357\u001b[0m     \u001b[38;5;28;01mraise\u001b[39;00m \u001b[38;5;167;01mValueError\u001b[39;00m(\n\u001b[0;32m    358\u001b[0m         \u001b[38;5;124m\"\u001b[39m\u001b[38;5;124mYou have passed a tuple to the predict() function instead of a Numpy array or a Dict. \u001b[39m\u001b[38;5;124m\"\u001b[39m\n\u001b[0;32m    359\u001b[0m         \u001b[38;5;124m\"\u001b[39m\u001b[38;5;124mYou are probably mixing Gym API with SB3 VecEnv API: `obs, info = env.reset()` (Gym) \u001b[39m\u001b[38;5;124m\"\u001b[39m\n\u001b[1;32m   (...)\u001b[0m\n\u001b[0;32m    362\u001b[0m         \u001b[38;5;124m\"\u001b[39m\u001b[38;5;124mand documentation for more information: https://stable-baselines3.readthedocs.io/en/master/guide/vec_envs.html#vecenv-api-vs-gym-api\u001b[39m\u001b[38;5;124m\"\u001b[39m\n\u001b[0;32m    363\u001b[0m     )\n\u001b[1;32m--> 365\u001b[0m obs_tensor, vectorized_env \u001b[38;5;241m=\u001b[39m \u001b[38;5;28;43mself\u001b[39;49m\u001b[38;5;241;43m.\u001b[39;49m\u001b[43mobs_to_tensor\u001b[49m\u001b[43m(\u001b[49m\u001b[43mobservation\u001b[49m\u001b[43m)\u001b[49m\n\u001b[0;32m    367\u001b[0m \u001b[38;5;28;01mwith\u001b[39;00m th\u001b[38;5;241m.\u001b[39mno_grad():\n\u001b[0;32m    368\u001b[0m     actions \u001b[38;5;241m=\u001b[39m \u001b[38;5;28mself\u001b[39m\u001b[38;5;241m.\u001b[39m_predict(obs_tensor, deterministic\u001b[38;5;241m=\u001b[39mdeterministic)\n",
      "File \u001b[1;32mc:\\Users\\RoscaMitrut\\.conda\\envs\\second_env\\lib\\site-packages\\stable_baselines3\\common\\policies.py:276\u001b[0m, in \u001b[0;36mBaseModel.obs_to_tensor\u001b[1;34m(self, observation)\u001b[0m\n\u001b[0;32m    273\u001b[0m     \u001b[38;5;66;03m# Add batch dimension if needed\u001b[39;00m\n\u001b[0;32m    274\u001b[0m     observation \u001b[38;5;241m=\u001b[39m observation\u001b[38;5;241m.\u001b[39mreshape((\u001b[38;5;241m-\u001b[39m\u001b[38;5;241m1\u001b[39m, \u001b[38;5;241m*\u001b[39m\u001b[38;5;28mself\u001b[39m\u001b[38;5;241m.\u001b[39mobservation_space\u001b[38;5;241m.\u001b[39mshape))  \u001b[38;5;66;03m# type: ignore[misc]\u001b[39;00m\n\u001b[1;32m--> 276\u001b[0m obs_tensor \u001b[38;5;241m=\u001b[39m \u001b[43mobs_as_tensor\u001b[49m\u001b[43m(\u001b[49m\u001b[43mobservation\u001b[49m\u001b[43m,\u001b[49m\u001b[43m \u001b[49m\u001b[38;5;28;43mself\u001b[39;49m\u001b[38;5;241;43m.\u001b[39;49m\u001b[43mdevice\u001b[49m\u001b[43m)\u001b[49m\n\u001b[0;32m    277\u001b[0m \u001b[38;5;28;01mreturn\u001b[39;00m obs_tensor, vectorized_env\n",
      "File \u001b[1;32mc:\\Users\\RoscaMitrut\\.conda\\envs\\second_env\\lib\\site-packages\\stable_baselines3\\common\\utils.py:486\u001b[0m, in \u001b[0;36mobs_as_tensor\u001b[1;34m(obs, device)\u001b[0m\n\u001b[0;32m    478\u001b[0m \u001b[38;5;250m\u001b[39m\u001b[38;5;124;03m\"\"\"\u001b[39;00m\n\u001b[0;32m    479\u001b[0m \u001b[38;5;124;03mMoves the observation to the given device.\u001b[39;00m\n\u001b[0;32m    480\u001b[0m \n\u001b[1;32m   (...)\u001b[0m\n\u001b[0;32m    483\u001b[0m \u001b[38;5;124;03m:return: PyTorch tensor of the observation on a desired device.\u001b[39;00m\n\u001b[0;32m    484\u001b[0m \u001b[38;5;124;03m\"\"\"\u001b[39;00m\n\u001b[0;32m    485\u001b[0m \u001b[38;5;28;01mif\u001b[39;00m \u001b[38;5;28misinstance\u001b[39m(obs, np\u001b[38;5;241m.\u001b[39mndarray):\n\u001b[1;32m--> 486\u001b[0m     \u001b[38;5;28;01mreturn\u001b[39;00m \u001b[43mth\u001b[49m\u001b[38;5;241;43m.\u001b[39;49m\u001b[43mas_tensor\u001b[49m\u001b[43m(\u001b[49m\u001b[43mobs\u001b[49m\u001b[43m,\u001b[49m\u001b[43m \u001b[49m\u001b[43mdevice\u001b[49m\u001b[38;5;241;43m=\u001b[39;49m\u001b[43mdevice\u001b[49m\u001b[43m)\u001b[49m\n\u001b[0;32m    487\u001b[0m \u001b[38;5;28;01melif\u001b[39;00m \u001b[38;5;28misinstance\u001b[39m(obs, \u001b[38;5;28mdict\u001b[39m):\n\u001b[0;32m    488\u001b[0m     \u001b[38;5;28;01mreturn\u001b[39;00m {key: th\u001b[38;5;241m.\u001b[39mas_tensor(_obs, device\u001b[38;5;241m=\u001b[39mdevice) \u001b[38;5;28;01mfor\u001b[39;00m (key, _obs) \u001b[38;5;129;01min\u001b[39;00m obs\u001b[38;5;241m.\u001b[39mitems()}\n",
      "\u001b[1;31mKeyboardInterrupt\u001b[0m: "
     ]
    }
   ],
   "source": [
    "evaluate_policy(model, env_cub, n_eval_episodes=10)\n",
    "#score mean / standard deviation"
   ]
  }
 ],
 "metadata": {
  "kernelspec": {
   "display_name": "second_env",
   "language": "python",
   "name": "python3"
  },
  "language_info": {
   "codemirror_mode": {
    "name": "ipython",
    "version": 3
   },
   "file_extension": ".py",
   "mimetype": "text/x-python",
   "name": "python",
   "nbconvert_exporter": "python",
   "pygments_lexer": "ipython3",
   "version": "3.9.16"
  }
 },
 "nbformat": 4,
 "nbformat_minor": 2
}
