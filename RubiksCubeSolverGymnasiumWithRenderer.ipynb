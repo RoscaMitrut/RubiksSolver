{
 "cells": [
  {
   "cell_type": "code",
   "execution_count": null,
   "metadata": {},
   "outputs": [],
   "source": [
    "import PIL\n",
    "import PIL.ImageDraw\n",
    "import random\n",
    "import numpy as np\n",
    "import os\n",
    "import matplotlib.pyplot as plt"
   ]
  },
  {
   "cell_type": "code",
   "execution_count": null,
   "metadata": {},
   "outputs": [],
   "source": [
    "# Gymnasium environment\n",
    "from gymnasium import Env\n",
    "from gymnasium.spaces import Discrete, Box, MultiDiscrete\n",
    "\n",
    "from stable_baselines3 import PPO\n",
    "from stable_baselines3.common.vec_env import DummyVecEnv\n",
    "from stable_baselines3.common.evaluation import evaluate_policy\n"
   ]
  },
  {
   "cell_type": "code",
   "execution_count": 52,
   "metadata": {},
   "outputs": [],
   "source": [
    "class RubkisCube:\n",
    "    def __init__(self, moves_nr=3):\n",
    "        self.cube = {\"U\":[['W', 'W', 'W'], ['W', 'W', 'W'], ['W', 'W', 'W']],\n",
    "            \"L\":[['O', 'O', 'O'], ['O', 'O', 'O'], ['O', 'O', 'O']],\n",
    "            \"F\":[['G', 'G', 'G'], ['G', 'G', 'G'], ['G', 'G', 'G']],\n",
    "            \"R\":[['R', 'R', 'R'], ['R', 'R', 'R'], ['R', 'R', 'R']],\n",
    "            \"B\":[['B', 'B', 'B'], ['B', 'B', 'B'], ['B', 'B', 'B']],\n",
    "            \"D\":[['Y', 'Y', 'Y'], ['Y', 'Y', 'Y'], ['Y', 'Y', 'Y']]\n",
    "        }\n",
    "        self.shuffle(moves_nr)\n",
    "        \n",
    "    def __str__(self):\n",
    "        string = \"\"\n",
    "        for face in self.cube.values():\n",
    "            for row in face:\n",
    "                for square in row:\n",
    "                    string+=square\n",
    "        return string\n",
    "    '''\n",
    "    def get_color(self, color: str):\n",
    "        match color:\n",
    "            case \"R\":\n",
    "                return (255,0,0)\n",
    "            case \"G\":\n",
    "                return (0,255,0)\n",
    "            case \"B\":\n",
    "                return (0,0,255)\n",
    "            case \"W\":\n",
    "                return (255,255,255)\n",
    "            case \"Y\":\n",
    "                return (255,255,0)\n",
    "            case \"O\":\n",
    "                return (255,128,0)\n",
    "    '''\n",
    "    def get_color(self, color: str):\n",
    "        if color == \"R\":\n",
    "            return (255,0,0)\n",
    "        elif color == \"G\":\n",
    "            return (0,255,0)\n",
    "        elif color == \"B\":\n",
    "            return (0,0,255)\n",
    "        elif color == \"W\":\n",
    "            return (255,255,255)\n",
    "        elif color == \"Y\":\n",
    "            return (255,255,0)\n",
    "        elif color == \"O\":\n",
    "            return (255,128,0)\n",
    "             \n",
    "    def draw_cube(self):\n",
    "        square_size = 50\n",
    "        im = PIL.Image.new(mode=\"RGB\", size=(square_size*12,square_size*9))\n",
    "        draw = PIL.ImageDraw.Draw(im)\n",
    "\n",
    "        positions = {\n",
    "            \"U\": (3, 0),\n",
    "            \"L\": (0, 3),\n",
    "            \"F\": (3, 3),\n",
    "            \"R\": (6, 3),\n",
    "            \"B\": (9, 3),\n",
    "            \"D\": (3, 6) \n",
    "        }\n",
    "\n",
    "        for side, pos in positions.items():\n",
    "            base_x, base_y = pos[0] * square_size, pos[1] * square_size\n",
    "            \n",
    "            for row in range(3):\n",
    "                for col in range(3):\n",
    "                    color = self.get_color(self.cube[side][row][col])\n",
    "\n",
    "                    x1 = base_x + (col * square_size)\n",
    "                    y1 = base_y + (row * square_size)\n",
    "                    x2 = x1 + square_size\n",
    "                    y2 = y1 + square_size\n",
    "                    \n",
    "                    draw.rectangle(\n",
    "                        xy=(x1, y1, x2, y2),\n",
    "                        fill=color,\n",
    "                        outline=(0, 0, 0)\n",
    "                    )\n",
    "        #im.show()\n",
    "        return im\n",
    "    \n",
    "    def rotate(self, move: str):\n",
    "        face = move[0]\n",
    "        direction = \"CCW\" if \"'\" in move else \"CW\"\n",
    "        \n",
    "        old_face = [row[:] for row in self.cube[face]]\n",
    "        for i in range(3):\n",
    "            for j in range(3):\n",
    "                if direction == \"CW\":\n",
    "                    self.cube[face][j][2-i] = old_face[i][j]\n",
    "                elif direction == \"CCW\":\n",
    "                    self.cube[face][2-j][i] = old_face[i][j]\n",
    "\n",
    "        if face == \"U\":\n",
    "            if direction == \"CW\":\n",
    "                temp = self.cube[\"L\"][0][:]\n",
    "                self.cube[\"L\"][0] = self.cube[\"F\"][0][:]\n",
    "                self.cube[\"F\"][0] = self.cube[\"R\"][0][:]\n",
    "                self.cube[\"R\"][0] = self.cube[\"B\"][0][:]\n",
    "                self.cube[\"B\"][0] = temp\n",
    "            elif direction == \"CCW\":\n",
    "                temp = self.cube[\"L\"][0][:]\n",
    "                self.cube[\"L\"][0] = self.cube[\"B\"][0][:]\n",
    "                self.cube[\"B\"][0] = self.cube[\"R\"][0][:]\n",
    "                self.cube[\"R\"][0] = self.cube[\"F\"][0][:]\n",
    "                self.cube[\"F\"][0] = temp\n",
    "\n",
    "        elif face == \"D\":\n",
    "            if direction == \"CW\":\n",
    "                temp = self.cube[\"L\"][2][:]\n",
    "                self.cube[\"L\"][2] = self.cube[\"B\"][2][:]\n",
    "                self.cube[\"B\"][2] = self.cube[\"R\"][2][:]\n",
    "                self.cube[\"R\"][2] = self.cube[\"F\"][2][:]\n",
    "                self.cube[\"F\"][2] = temp\n",
    "            elif direction == \"CCW\":\n",
    "                temp = self.cube[\"L\"][2][:]\n",
    "                self.cube[\"L\"][2] = self.cube[\"F\"][2][:]\n",
    "                self.cube[\"F\"][2] = self.cube[\"R\"][2][:]\n",
    "                self.cube[\"R\"][2] = self.cube[\"B\"][2][:]\n",
    "                self.cube[\"B\"][2] = temp\n",
    "\n",
    "        elif face == \"F\":\n",
    "            if direction == \"CW\":\n",
    "                temp = self.cube[\"U\"][2][:]\n",
    "                self.cube[\"U\"][2] = [self.cube[\"L\"][2][2], self.cube[\"L\"][1][2], self.cube[\"L\"][0][2]]\n",
    "                self.cube[\"L\"][0][2], self.cube[\"L\"][1][2], self.cube[\"L\"][2][2] = self.cube[\"D\"][0][:]\n",
    "                self.cube[\"D\"][0] = [self.cube[\"R\"][2][0], self.cube[\"R\"][1][0], self.cube[\"R\"][0][0]]\n",
    "                self.cube[\"R\"][0][0], self.cube[\"R\"][1][0], self.cube[\"R\"][2][0] = temp\n",
    "            elif direction == \"CCW\":\n",
    "                temp = self.cube[\"U\"][2][:]\n",
    "                self.cube[\"U\"][2] = [self.cube[\"R\"][0][0], self.cube[\"R\"][1][0], self.cube[\"R\"][2][0]]\n",
    "                self.cube[\"R\"][0][0], self.cube[\"R\"][1][0], self.cube[\"R\"][2][0] = self.cube[\"D\"][0][::-1]\n",
    "                self.cube[\"D\"][0] = [self.cube[\"L\"][0][2], self.cube[\"L\"][1][2], self.cube[\"L\"][2][2]]\n",
    "                self.cube[\"L\"][0][2], self.cube[\"L\"][1][2], self.cube[\"L\"][2][2] = temp[::-1]\n",
    "\n",
    "        elif face == \"B\":\n",
    "            if direction == \"CW\":\n",
    "                temp = self.cube[\"U\"][0][:]\n",
    "                self.cube[\"U\"][0] = [self.cube[\"R\"][0][2], self.cube[\"R\"][1][2], self.cube[\"R\"][2][2]]\n",
    "                self.cube[\"R\"][0][2], self.cube[\"R\"][1][2], self.cube[\"R\"][2][2] = self.cube[\"D\"][2][::-1]\n",
    "                self.cube[\"D\"][2] = [self.cube[\"L\"][0][0], self.cube[\"L\"][1][0], self.cube[\"L\"][2][0]]\n",
    "                self.cube[\"L\"][0][0], self.cube[\"L\"][1][0], self.cube[\"L\"][2][0] = temp[::-1]\n",
    "            elif direction == \"CCW\":\n",
    "                temp = self.cube[\"U\"][0][:]\n",
    "                self.cube[\"U\"][0] = [self.cube[\"L\"][2][0], self.cube[\"L\"][1][0], self.cube[\"L\"][0][0]]\n",
    "                self.cube[\"L\"][0][0], self.cube[\"L\"][1][0], self.cube[\"L\"][2][0] = self.cube[\"D\"][2][:]\n",
    "                self.cube[\"D\"][2] = [self.cube[\"R\"][2][2], self.cube[\"R\"][1][2], self.cube[\"R\"][0][2]]\n",
    "                self.cube[\"R\"][0][2], self.cube[\"R\"][1][2], self.cube[\"R\"][2][2] = temp\n",
    "\n",
    "        elif face == \"L\":\n",
    "            if direction == \"CW\":\n",
    "                temp = [self.cube[\"U\"][i][0] for i in range(3)]\n",
    "                for i in range(3): self.cube[\"U\"][i][0] = self.cube[\"B\"][2-i][2]\n",
    "                for i in range(3): self.cube[\"B\"][i][2] = self.cube[\"D\"][2-i][0]\n",
    "                for i in range(3): self.cube[\"D\"][i][0] = self.cube[\"F\"][i][0]\n",
    "                for i in range(3): self.cube[\"F\"][i][0] = temp[i]\n",
    "            elif direction == \"CCW\":\n",
    "                temp = [self.cube[\"U\"][i][0] for i in range(3)]\n",
    "                for i in range(3): self.cube[\"U\"][i][0] = self.cube[\"F\"][i][0]\n",
    "                for i in range(3): self.cube[\"F\"][i][0] = self.cube[\"D\"][i][0]\n",
    "                for i in range(3): self.cube[\"D\"][i][0] = self.cube[\"B\"][2-i][2]\n",
    "                for i in range(3): self.cube[\"B\"][i][2] = temp[2-i]\n",
    "\n",
    "        elif face == \"R\":\n",
    "            if direction == \"CW\":\n",
    "                temp = [self.cube[\"U\"][i][2] for i in range(3)]\n",
    "                for i in range(3): self.cube[\"U\"][i][2] = self.cube[\"F\"][i][2]\n",
    "                for i in range(3): self.cube[\"F\"][i][2] = self.cube[\"D\"][i][2]\n",
    "                for i in range(3): self.cube[\"D\"][i][2] = self.cube[\"B\"][2-i][0]\n",
    "                for i in range(3): self.cube[\"B\"][i][0] = temp[2-i]\n",
    "            elif direction == \"CCW\":\n",
    "                temp = [self.cube[\"U\"][i][2] for i in range(3)]\n",
    "                for i in range(3): self.cube[\"U\"][i][2] = self.cube[\"B\"][2-i][0]\n",
    "                for i in range(3): self.cube[\"B\"][i][0] = self.cube[\"D\"][2-i][2]\n",
    "                for i in range(3): self.cube[\"D\"][i][2] = self.cube[\"F\"][i][2]\n",
    "                for i in range(3): self.cube[\"F\"][i][2] = temp[i]\n",
    "\n",
    "    def shuffle(self, moves=50):\n",
    "        for _ in range(moves):\n",
    "            move = random.choice([\"F\",\"R\",\"U\",\"B\",\"L\",\"D\",\"F'\",\"R'\",\"U'\",\"B'\",\"L'\",\"D'\"])\n",
    "            self.rotate(move)\n",
    "        return self\n",
    "    \n",
    "    def check_score(self):\n",
    "        return sum(sum(row.count(face[1][1]) for row in face) for face in self.cube.values())\n",
    "    \n",
    "    def check_done(self):\n",
    "        return self.check_score() == 54\n",
    "    \n",
    "    def step(self, action):\n",
    "        move = [\"F\",\"R\",\"U\",\"B\",\"L\",\"D\",\"F'\",\"R'\",\"U'\",\"B'\",\"L'\",\"D'\"][action]\n",
    "        self.rotate(move)\n",
    "        #reward = 200 if self.check_score()==54 else (self.check_score()-54)/10\n",
    "        #return reward\n",
    "        return self.check_score()"
   ]
  },
  {
   "cell_type": "markdown",
   "metadata": {},
   "source": [
    "# Building the Environment"
   ]
  },
  {
   "cell_type": "code",
   "execution_count": 54,
   "metadata": {},
   "outputs": [],
   "source": [
    "class CubeEnv(Env):\n",
    "    def __init__(self):\n",
    "        self.action_space = Discrete(12)\n",
    "        \n",
    "        self.color_to_idx = {\n",
    "            'W': 0,  # White\n",
    "            'O': 1,  # Orange\n",
    "            'G': 2,  # Green\n",
    "            'R': 3,  # Red\n",
    "            'B': 4,  # Blue\n",
    "            'Y': 5   # Yellow\n",
    "        }\n",
    "        self.observation_space = Box(low=0, high=5, shape=(54,), dtype=np.int8)\n",
    "        \n",
    "        self.state = RubkisCube()\n",
    "        self.moves_left = 50\n",
    "        self.previous_score = self.state.check_score()\n",
    "        \n",
    "        self.fig, self.ax = plt.subplots()\n",
    "        \n",
    "    def _state_to_observation(self):\n",
    "        state_str = str(self.state)  # You might need to adjust this based on your RubkisCube class\n",
    "        return np.array([self.color_to_idx[c] for c in state_str], dtype=np.int8)\n",
    "    \n",
    "    def step(self, action):\n",
    "        current_score = self.state.step(action)\n",
    "        self.moves_left -= 1\n",
    "\n",
    "        improvement = current_score - self.previous_score\n",
    "        move_penalty = -0.1  \n",
    "\n",
    "        done = True if current_score==54 else False\n",
    "        \n",
    "        if done:\n",
    "            reward = 200\n",
    "        else:\n",
    "            reward = improvement * 2.0  # Multiply improvement by 2 for stronger signal\n",
    "            reward += move_penalty  # Add move penalty\n",
    "            \n",
    "        if self.moves_left == 0:\n",
    "            done = True\n",
    "\n",
    "        self.previous_score = current_score\n",
    "\n",
    "        info = {\n",
    "            'moves_remaining': self.moves_left,\n",
    "            'current_score': current_score,\n",
    "            'completion_percentage': (current_score / 54.0) * 100\n",
    "            }\n",
    "            \n",
    "        return self._state_to_observation(), reward, done, False, info # false=\"truncated\"\n",
    "    \n",
    "    def render(self):\n",
    "        img = self.state.draw_cube()  # Get PIL image\n",
    "        img = np.array(img)  # Convert to NumPy array\n",
    "\n",
    "        if not hasattr(self, 'im'):  # First-time setup\n",
    "            self.im = self.ax.imshow(img)\n",
    "            self.ax.axis(\"off\")  # Hide axis\n",
    "        else:\n",
    "            self.im.set_data(img)  # Update existing image\n",
    "\n",
    "        self.fig.canvas.flush_events()  # Force update\n",
    "        plt.pause(0.01)  # Allow Matplotlib to refresh\n",
    "\n",
    "    \n",
    "    def reset(self, seed=None, options=None):\n",
    "        super().reset(seed=seed)\n",
    "        \n",
    "        self.state = RubkisCube()\n",
    "        self.moves_left = 50\n",
    "        self.previous_score = self.state.check_score()\n",
    "\n",
    "        info = {}\n",
    "\n",
    "        return self._state_to_observation(), info"
   ]
  },
  {
   "cell_type": "markdown",
   "metadata": {},
   "source": [
    "# Test render"
   ]
  },
  {
   "cell_type": "code",
   "execution_count": 55,
   "metadata": {},
   "outputs": [],
   "source": [
    "%matplotlib qt"
   ]
  },
  {
   "cell_type": "code",
   "execution_count": 56,
   "metadata": {},
   "outputs": [],
   "source": [
    "temp_env = CubeEnv()"
   ]
  },
  {
   "cell_type": "code",
   "execution_count": 57,
   "metadata": {},
   "outputs": [],
   "source": [
    "for _ in range(12):\n",
    "    temp_env.step(1)\n",
    "    temp_env.render()"
   ]
  },
  {
   "cell_type": "code",
   "execution_count": 41,
   "metadata": {},
   "outputs": [],
   "source": [
    "del temp_env"
   ]
  },
  {
   "cell_type": "markdown",
   "metadata": {},
   "source": [
    "# Test Environment"
   ]
  },
  {
   "cell_type": "code",
   "execution_count": 23,
   "metadata": {},
   "outputs": [
    {
     "name": "stdout",
     "output_type": "stream",
     "text": [
      "-12.1\n",
      "-6.199999999999999\n",
      "-10.299999999999999\n",
      "-12.399999999999999\n",
      "-8.499999999999998\n",
      "3.400000000000002\n",
      "1.300000000000002\n",
      "-10.799999999999997\n",
      "-16.9\n",
      "-17.0\n",
      "-17.1\n",
      "-19.200000000000003\n",
      "-17.300000000000004\n",
      "-15.400000000000004\n",
      "-11.500000000000004\n",
      "-15.600000000000003\n",
      "-19.700000000000003\n",
      "-27.800000000000004\n",
      "-23.900000000000006\n",
      "-20.000000000000007\n",
      "-22.10000000000001\n",
      "-16.20000000000001\n",
      "-18.30000000000001\n",
      "-18.400000000000013\n",
      "-16.500000000000014\n",
      "-18.600000000000016\n",
      "-24.700000000000017\n",
      "-24.80000000000002\n",
      "-16.90000000000002\n",
      "-21.00000000000002\n",
      "-23.100000000000023\n",
      "-23.200000000000024\n",
      "-19.300000000000026\n",
      "-17.400000000000027\n",
      "-19.50000000000003\n",
      "-17.60000000000003\n",
      "-17.70000000000003\n",
      "-15.800000000000031\n",
      "-17.90000000000003\n",
      "-24.00000000000003\n",
      "-26.10000000000003\n",
      "-24.20000000000003\n",
      "-28.300000000000033\n",
      "-30.400000000000034\n",
      "-32.500000000000036\n",
      "-28.600000000000037\n",
      "-28.70000000000004\n",
      "-22.80000000000004\n",
      "-24.90000000000004\n",
      "-21.000000000000043\n"
     ]
    }
   ],
   "source": [
    "env_cub_test = CubeEnv()\n",
    "episodes = 1\n",
    "for episode in range(episodes):\n",
    "    obs = env_cub_test.reset()\n",
    "    done = False\n",
    "    score = 0\n",
    "    \n",
    "    for _ in range(50):\n",
    "        action = env_cub_test.action_space.sample()\n",
    "        obs, reward, done,truncated, info = env_cub_test.step(action)\n",
    "        score += reward\n",
    "        print(score)\n",
    "        #env_cub_test.render().show()\n",
    "        if done:\n",
    "            break"
   ]
  },
  {
   "cell_type": "markdown",
   "metadata": {},
   "source": [
    "# Train Model"
   ]
  },
  {
   "cell_type": "code",
   "execution_count": 58,
   "metadata": {},
   "outputs": [],
   "source": [
    "log_path = os.path.join('Training', 'Logs')\n",
    "cube_model_path = os.path.join('Training', 'Saved Models', 'Cube_Model')\n",
    "env_cub = CubeEnv()"
   ]
  },
  {
   "cell_type": "code",
   "execution_count": 59,
   "metadata": {},
   "outputs": [
    {
     "name": "stdout",
     "output_type": "stream",
     "text": [
      "Using cpu device\n",
      "Wrapping the env with a `Monitor` wrapper\n",
      "Wrapping the env in a DummyVecEnv.\n"
     ]
    }
   ],
   "source": [
    "model = PPO('MlpPolicy', env_cub, verbose=1, tensorboard_log=log_path, device='cpu')"
   ]
  },
  {
   "cell_type": "code",
   "execution_count": 60,
   "metadata": {},
   "outputs": [
    {
     "name": "stdout",
     "output_type": "stream",
     "text": [
      "Logging to Training\\Logs\\PPO_12\n",
      "---------------------------------\n",
      "| rollout/           |          |\n",
      "|    ep_len_mean     | 50       |\n",
      "|    ep_rew_mean     | -34.4    |\n",
      "| time/              |          |\n",
      "|    fps             | 1720     |\n",
      "|    iterations      | 1        |\n",
      "|    time_elapsed    | 1        |\n",
      "|    total_timesteps | 2048     |\n",
      "---------------------------------\n",
      "-----------------------------------------\n",
      "| rollout/                |             |\n",
      "|    ep_len_mean          | 49.5        |\n",
      "|    ep_rew_mean          | -33.6       |\n",
      "| time/                   |             |\n",
      "|    fps                  | 1174        |\n",
      "|    iterations           | 2           |\n",
      "|    time_elapsed         | 3           |\n",
      "|    total_timesteps      | 4096        |\n",
      "| train/                  |             |\n",
      "|    approx_kl            | 0.007698771 |\n",
      "|    clip_fraction        | 0.0448      |\n",
      "|    clip_range           | 0.2         |\n",
      "|    entropy_loss         | -2.48       |\n",
      "|    explained_variance   | -0.0058     |\n",
      "|    learning_rate        | 0.0003      |\n",
      "|    loss                 | 28.7        |\n",
      "|    n_updates            | 10          |\n",
      "|    policy_gradient_loss | -0.0164     |\n",
      "|    value_loss           | 67.4        |\n",
      "-----------------------------------------\n",
      "------------------------------------------\n",
      "| rollout/                |              |\n",
      "|    ep_len_mean          | 49.5         |\n",
      "|    ep_rew_mean          | -35          |\n",
      "| time/                   |              |\n",
      "|    fps                  | 1050         |\n",
      "|    iterations           | 3            |\n",
      "|    time_elapsed         | 5            |\n",
      "|    total_timesteps      | 6144         |\n",
      "| train/                  |              |\n",
      "|    approx_kl            | 0.0069051962 |\n",
      "|    clip_fraction        | 0.0224       |\n",
      "|    clip_range           | 0.2          |\n",
      "|    entropy_loss         | -2.48        |\n",
      "|    explained_variance   | 0.0872       |\n",
      "|    learning_rate        | 0.0003       |\n",
      "|    loss                 | 31.1         |\n",
      "|    n_updates            | 20           |\n",
      "|    policy_gradient_loss | -0.0162      |\n",
      "|    value_loss           | 156          |\n",
      "------------------------------------------\n",
      "------------------------------------------\n",
      "| rollout/                |              |\n",
      "|    ep_len_mean          | 50           |\n",
      "|    ep_rew_mean          | -36.4        |\n",
      "| time/                   |              |\n",
      "|    fps                  | 982          |\n",
      "|    iterations           | 4            |\n",
      "|    time_elapsed         | 8            |\n",
      "|    total_timesteps      | 8192         |\n",
      "| train/                  |              |\n",
      "|    approx_kl            | 0.0060396753 |\n",
      "|    clip_fraction        | 0.0304       |\n",
      "|    clip_range           | 0.2          |\n",
      "|    entropy_loss         | -2.47        |\n",
      "|    explained_variance   | 0.273        |\n",
      "|    learning_rate        | 0.0003       |\n",
      "|    loss                 | 15.1         |\n",
      "|    n_updates            | 30           |\n",
      "|    policy_gradient_loss | -0.0204      |\n",
      "|    value_loss           | 64.4         |\n",
      "------------------------------------------\n",
      "------------------------------------------\n",
      "| rollout/                |              |\n",
      "|    ep_len_mean          | 50           |\n",
      "|    ep_rew_mean          | -33.7        |\n",
      "| time/                   |              |\n",
      "|    fps                  | 963          |\n",
      "|    iterations           | 5            |\n",
      "|    time_elapsed         | 10           |\n",
      "|    total_timesteps      | 10240        |\n",
      "| train/                  |              |\n",
      "|    approx_kl            | 0.0077424925 |\n",
      "|    clip_fraction        | 0.0651       |\n",
      "|    clip_range           | 0.2          |\n",
      "|    entropy_loss         | -2.47        |\n",
      "|    explained_variance   | 0.329        |\n",
      "|    learning_rate        | 0.0003       |\n",
      "|    loss                 | 27.5         |\n",
      "|    n_updates            | 40           |\n",
      "|    policy_gradient_loss | -0.0252      |\n",
      "|    value_loss           | 51.5         |\n",
      "------------------------------------------\n"
     ]
    },
    {
     "data": {
      "text/plain": [
       "<stable_baselines3.ppo.ppo.PPO at 0x2307c5d6fa0>"
      ]
     },
     "execution_count": 60,
     "metadata": {},
     "output_type": "execute_result"
    }
   ],
   "source": [
    "model.learn(total_timesteps=1_000_0)"
   ]
  },
  {
   "cell_type": "markdown",
   "metadata": {},
   "source": [
    "# Saving model"
   ]
  },
  {
   "cell_type": "code",
   "execution_count": null,
   "metadata": {},
   "outputs": [
    {
     "name": "stderr",
     "output_type": "stream",
     "text": [
      "c:\\Users\\RoscaMitrut\\.conda\\envs\\second_env\\lib\\site-packages\\stable_baselines3\\common\\save_util.py:284: UserWarning: Path 'Training\\Saved Models' does not exist. Will create it.\n",
      "  warnings.warn(f\"Path '{path.parent}' does not exist. Will create it.\")\n"
     ]
    }
   ],
   "source": [
    "model.save(cube_model_path)"
   ]
  },
  {
   "cell_type": "markdown",
   "metadata": {},
   "source": [
    "# Testing the model"
   ]
  },
  {
   "cell_type": "code",
   "execution_count": 62,
   "metadata": {},
   "outputs": [],
   "source": [
    "cub_env_nou = CubeEnv()"
   ]
  },
  {
   "cell_type": "code",
   "execution_count": null,
   "metadata": {},
   "outputs": [
    {
     "name": "stdout",
     "output_type": "stream",
     "text": [
      "Wrapping the env with a `Monitor` wrapper\n",
      "Wrapping the env in a DummyVecEnv.\n"
     ]
    },
    {
     "name": "stderr",
     "output_type": "stream",
     "text": [
      "c:\\Users\\RoscaMitrut\\.conda\\envs\\second_env\\lib\\site-packages\\stable_baselines3\\common\\on_policy_algorithm.py:150: UserWarning: You are trying to run PPO on the GPU, but it is primarily intended to run on the CPU when not using a CNN policy (you are using ActorCriticPolicy which should be a MlpPolicy). See https://github.com/DLR-RM/stable-baselines3/issues/1245 for more info. You can pass `device='cpu'` or `export CUDA_VISIBLE_DEVICES=` to force using the CPU.Note: The model will train, but the GPU utilization will be poor and the training might take longer than on CPU.\n",
      "  warnings.warn(\n"
     ]
    }
   ],
   "source": [
    "#load\n",
    "model = PPO.load(cube_model_path, env=cub_env_nou)"
   ]
  },
  {
   "cell_type": "code",
   "execution_count": null,
   "metadata": {},
   "outputs": [
    {
     "name": "stderr",
     "output_type": "stream",
     "text": [
      "c:\\Users\\RoscaMitrut\\.conda\\envs\\second_env\\lib\\site-packages\\stable_baselines3\\common\\evaluation.py:67: UserWarning: Evaluation environment is not wrapped with a ``Monitor`` wrapper. This may result in reporting modified episode lengths and rewards, if other wrappers happen to modify these. Consider wrapping environment first with ``Monitor`` wrapper.\n",
      "  warnings.warn(\n"
     ]
    },
    {
     "data": {
      "text/plain": [
       "(166.30074125528336, 100.33556513547668)"
      ]
     },
     "execution_count": 39,
     "metadata": {},
     "output_type": "execute_result"
    }
   ],
   "source": [
    "evaluate_policy(model, cub_env_nou, n_eval_episodes=10)\n",
    "#score mean / standard deviation"
   ]
  },
  {
   "cell_type": "code",
   "execution_count": 70,
   "metadata": {},
   "outputs": [],
   "source": [
    "cub_env_nou.render()"
   ]
  },
  {
   "cell_type": "code",
   "execution_count": 68,
   "metadata": {},
   "outputs": [
    {
     "name": "stdout",
     "output_type": "stream",
     "text": [
      "0\n"
     ]
    }
   ],
   "source": [
    "action, _states = model.predict(cub_env_nou._state_to_observation())\n",
    "print(action)"
   ]
  },
  {
   "cell_type": "code",
   "execution_count": 69,
   "metadata": {},
   "outputs": [
    {
     "data": {
      "text/plain": [
       "(array([0, 0, 0, 0, 0, 0, 0, 0, 0, 1, 1, 1, 1, 1, 1, 1, 1, 1, 2, 2, 2, 2,\n",
       "        2, 2, 2, 2, 2, 3, 3, 3, 3, 3, 3, 3, 3, 3, 4, 4, 4, 4, 4, 4, 4, 4,\n",
       "        4, 5, 5, 5, 5, 5, 5, 5, 5, 5], dtype=int8),\n",
       " 200,\n",
       " True,\n",
       " False,\n",
       " {'moves_remaining': 47, 'current_score': 54, 'completion_percentage': 100.0})"
      ]
     },
     "execution_count": 69,
     "metadata": {},
     "output_type": "execute_result"
    }
   ],
   "source": [
    "cub_env_nou.step(action)"
   ]
  }
 ],
 "metadata": {
  "kernelspec": {
   "display_name": "second_env",
   "language": "python",
   "name": "python3"
  },
  "language_info": {
   "codemirror_mode": {
    "name": "ipython",
    "version": 3
   },
   "file_extension": ".py",
   "mimetype": "text/x-python",
   "name": "python",
   "nbconvert_exporter": "python",
   "pygments_lexer": "ipython3",
   "version": "3.9.16"
  }
 },
 "nbformat": 4,
 "nbformat_minor": 2
}
